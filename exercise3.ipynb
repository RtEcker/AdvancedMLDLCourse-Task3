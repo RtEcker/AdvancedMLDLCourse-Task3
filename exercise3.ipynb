{
  "nbformat": 4,
  "nbformat_minor": 0,
  "metadata": {
    "colab": {
      "provenance": [],
      "include_colab_link": true
    },
    "kernelspec": {
      "name": "python3",
      "display_name": "Python 3"
    },
    "language_info": {
      "name": "python"
    },
    "gpuClass": "standard",
    "accelerator": "GPU",
    "widgets": {
      "application/vnd.jupyter.widget-state+json": {
        "e9fa4b10e5bf442f8b33b7a956d69e3b": {
          "model_module": "@jupyter-widgets/controls",
          "model_name": "HBoxModel",
          "model_module_version": "1.5.0",
          "state": {
            "_dom_classes": [],
            "_model_module": "@jupyter-widgets/controls",
            "_model_module_version": "1.5.0",
            "_model_name": "HBoxModel",
            "_view_count": null,
            "_view_module": "@jupyter-widgets/controls",
            "_view_module_version": "1.5.0",
            "_view_name": "HBoxView",
            "box_style": "",
            "children": [
              "IPY_MODEL_0a0c107140374a8791b805ccc2789342",
              "IPY_MODEL_e0f98feed8734149a4b69c46416576df",
              "IPY_MODEL_6c829d26cace44c7a1614be66ef03647"
            ],
            "layout": "IPY_MODEL_a84281dc24064de9b85fce3115e8b55b"
          }
        },
        "0a0c107140374a8791b805ccc2789342": {
          "model_module": "@jupyter-widgets/controls",
          "model_name": "HTMLModel",
          "model_module_version": "1.5.0",
          "state": {
            "_dom_classes": [],
            "_model_module": "@jupyter-widgets/controls",
            "_model_module_version": "1.5.0",
            "_model_name": "HTMLModel",
            "_view_count": null,
            "_view_module": "@jupyter-widgets/controls",
            "_view_module_version": "1.5.0",
            "_view_name": "HTMLView",
            "description": "",
            "description_tooltip": null,
            "layout": "IPY_MODEL_be04f765071b4f76b5146a154e2e8620",
            "placeholder": "​",
            "style": "IPY_MODEL_612ae9a20e484308852a07f443844df9",
            "value": "100%"
          }
        },
        "e0f98feed8734149a4b69c46416576df": {
          "model_module": "@jupyter-widgets/controls",
          "model_name": "FloatProgressModel",
          "model_module_version": "1.5.0",
          "state": {
            "_dom_classes": [],
            "_model_module": "@jupyter-widgets/controls",
            "_model_module_version": "1.5.0",
            "_model_name": "FloatProgressModel",
            "_view_count": null,
            "_view_module": "@jupyter-widgets/controls",
            "_view_module_version": "1.5.0",
            "_view_name": "ProgressView",
            "bar_style": "success",
            "description": "",
            "description_tooltip": null,
            "layout": "IPY_MODEL_777a0c4e247a46e4b4c0733f8d62a02e",
            "max": 70405,
            "min": 0,
            "orientation": "horizontal",
            "style": "IPY_MODEL_909f12098b2e47639a00f19fd0174a6a",
            "value": 70405
          }
        },
        "6c829d26cace44c7a1614be66ef03647": {
          "model_module": "@jupyter-widgets/controls",
          "model_name": "HTMLModel",
          "model_module_version": "1.5.0",
          "state": {
            "_dom_classes": [],
            "_model_module": "@jupyter-widgets/controls",
            "_model_module_version": "1.5.0",
            "_model_name": "HTMLModel",
            "_view_count": null,
            "_view_module": "@jupyter-widgets/controls",
            "_view_module_version": "1.5.0",
            "_view_name": "HTMLView",
            "description": "",
            "description_tooltip": null,
            "layout": "IPY_MODEL_2171bf71db9843a69dc9ceda5ee27820",
            "placeholder": "​",
            "style": "IPY_MODEL_b677f9aae37745c29ae9eaa47566cc0c",
            "value": " 70405/70405 [00:04&lt;00:00, 9090.01it/s]"
          }
        },
        "a84281dc24064de9b85fce3115e8b55b": {
          "model_module": "@jupyter-widgets/base",
          "model_name": "LayoutModel",
          "model_module_version": "1.2.0",
          "state": {
            "_model_module": "@jupyter-widgets/base",
            "_model_module_version": "1.2.0",
            "_model_name": "LayoutModel",
            "_view_count": null,
            "_view_module": "@jupyter-widgets/base",
            "_view_module_version": "1.2.0",
            "_view_name": "LayoutView",
            "align_content": null,
            "align_items": null,
            "align_self": null,
            "border": null,
            "bottom": null,
            "display": null,
            "flex": null,
            "flex_flow": null,
            "grid_area": null,
            "grid_auto_columns": null,
            "grid_auto_flow": null,
            "grid_auto_rows": null,
            "grid_column": null,
            "grid_gap": null,
            "grid_row": null,
            "grid_template_areas": null,
            "grid_template_columns": null,
            "grid_template_rows": null,
            "height": null,
            "justify_content": null,
            "justify_items": null,
            "left": null,
            "margin": null,
            "max_height": null,
            "max_width": null,
            "min_height": null,
            "min_width": null,
            "object_fit": null,
            "object_position": null,
            "order": null,
            "overflow": null,
            "overflow_x": null,
            "overflow_y": null,
            "padding": null,
            "right": null,
            "top": null,
            "visibility": null,
            "width": null
          }
        },
        "be04f765071b4f76b5146a154e2e8620": {
          "model_module": "@jupyter-widgets/base",
          "model_name": "LayoutModel",
          "model_module_version": "1.2.0",
          "state": {
            "_model_module": "@jupyter-widgets/base",
            "_model_module_version": "1.2.0",
            "_model_name": "LayoutModel",
            "_view_count": null,
            "_view_module": "@jupyter-widgets/base",
            "_view_module_version": "1.2.0",
            "_view_name": "LayoutView",
            "align_content": null,
            "align_items": null,
            "align_self": null,
            "border": null,
            "bottom": null,
            "display": null,
            "flex": null,
            "flex_flow": null,
            "grid_area": null,
            "grid_auto_columns": null,
            "grid_auto_flow": null,
            "grid_auto_rows": null,
            "grid_column": null,
            "grid_gap": null,
            "grid_row": null,
            "grid_template_areas": null,
            "grid_template_columns": null,
            "grid_template_rows": null,
            "height": null,
            "justify_content": null,
            "justify_items": null,
            "left": null,
            "margin": null,
            "max_height": null,
            "max_width": null,
            "min_height": null,
            "min_width": null,
            "object_fit": null,
            "object_position": null,
            "order": null,
            "overflow": null,
            "overflow_x": null,
            "overflow_y": null,
            "padding": null,
            "right": null,
            "top": null,
            "visibility": null,
            "width": null
          }
        },
        "612ae9a20e484308852a07f443844df9": {
          "model_module": "@jupyter-widgets/controls",
          "model_name": "DescriptionStyleModel",
          "model_module_version": "1.5.0",
          "state": {
            "_model_module": "@jupyter-widgets/controls",
            "_model_module_version": "1.5.0",
            "_model_name": "DescriptionStyleModel",
            "_view_count": null,
            "_view_module": "@jupyter-widgets/base",
            "_view_module_version": "1.2.0",
            "_view_name": "StyleView",
            "description_width": ""
          }
        },
        "777a0c4e247a46e4b4c0733f8d62a02e": {
          "model_module": "@jupyter-widgets/base",
          "model_name": "LayoutModel",
          "model_module_version": "1.2.0",
          "state": {
            "_model_module": "@jupyter-widgets/base",
            "_model_module_version": "1.2.0",
            "_model_name": "LayoutModel",
            "_view_count": null,
            "_view_module": "@jupyter-widgets/base",
            "_view_module_version": "1.2.0",
            "_view_name": "LayoutView",
            "align_content": null,
            "align_items": null,
            "align_self": null,
            "border": null,
            "bottom": null,
            "display": null,
            "flex": null,
            "flex_flow": null,
            "grid_area": null,
            "grid_auto_columns": null,
            "grid_auto_flow": null,
            "grid_auto_rows": null,
            "grid_column": null,
            "grid_gap": null,
            "grid_row": null,
            "grid_template_areas": null,
            "grid_template_columns": null,
            "grid_template_rows": null,
            "height": null,
            "justify_content": null,
            "justify_items": null,
            "left": null,
            "margin": null,
            "max_height": null,
            "max_width": null,
            "min_height": null,
            "min_width": null,
            "object_fit": null,
            "object_position": null,
            "order": null,
            "overflow": null,
            "overflow_x": null,
            "overflow_y": null,
            "padding": null,
            "right": null,
            "top": null,
            "visibility": null,
            "width": null
          }
        },
        "909f12098b2e47639a00f19fd0174a6a": {
          "model_module": "@jupyter-widgets/controls",
          "model_name": "ProgressStyleModel",
          "model_module_version": "1.5.0",
          "state": {
            "_model_module": "@jupyter-widgets/controls",
            "_model_module_version": "1.5.0",
            "_model_name": "ProgressStyleModel",
            "_view_count": null,
            "_view_module": "@jupyter-widgets/base",
            "_view_module_version": "1.2.0",
            "_view_name": "StyleView",
            "bar_color": null,
            "description_width": ""
          }
        },
        "2171bf71db9843a69dc9ceda5ee27820": {
          "model_module": "@jupyter-widgets/base",
          "model_name": "LayoutModel",
          "model_module_version": "1.2.0",
          "state": {
            "_model_module": "@jupyter-widgets/base",
            "_model_module_version": "1.2.0",
            "_model_name": "LayoutModel",
            "_view_count": null,
            "_view_module": "@jupyter-widgets/base",
            "_view_module_version": "1.2.0",
            "_view_name": "LayoutView",
            "align_content": null,
            "align_items": null,
            "align_self": null,
            "border": null,
            "bottom": null,
            "display": null,
            "flex": null,
            "flex_flow": null,
            "grid_area": null,
            "grid_auto_columns": null,
            "grid_auto_flow": null,
            "grid_auto_rows": null,
            "grid_column": null,
            "grid_gap": null,
            "grid_row": null,
            "grid_template_areas": null,
            "grid_template_columns": null,
            "grid_template_rows": null,
            "height": null,
            "justify_content": null,
            "justify_items": null,
            "left": null,
            "margin": null,
            "max_height": null,
            "max_width": null,
            "min_height": null,
            "min_width": null,
            "object_fit": null,
            "object_position": null,
            "order": null,
            "overflow": null,
            "overflow_x": null,
            "overflow_y": null,
            "padding": null,
            "right": null,
            "top": null,
            "visibility": null,
            "width": null
          }
        },
        "b677f9aae37745c29ae9eaa47566cc0c": {
          "model_module": "@jupyter-widgets/controls",
          "model_name": "DescriptionStyleModel",
          "model_module_version": "1.5.0",
          "state": {
            "_model_module": "@jupyter-widgets/controls",
            "_model_module_version": "1.5.0",
            "_model_name": "DescriptionStyleModel",
            "_view_count": null,
            "_view_module": "@jupyter-widgets/base",
            "_view_module_version": "1.2.0",
            "_view_name": "StyleView",
            "description_width": ""
          }
        },
        "b1a0582bc94e45e798682065491e341f": {
          "model_module": "@jupyter-widgets/controls",
          "model_name": "HBoxModel",
          "model_module_version": "1.5.0",
          "state": {
            "_dom_classes": [],
            "_model_module": "@jupyter-widgets/controls",
            "_model_module_version": "1.5.0",
            "_model_name": "HBoxModel",
            "_view_count": null,
            "_view_module": "@jupyter-widgets/controls",
            "_view_module_version": "1.5.0",
            "_view_name": "HBoxView",
            "box_style": "",
            "children": [
              "IPY_MODEL_f8b8987ea30f467e9bd899239c1a78c8",
              "IPY_MODEL_c898e4e28cf14bc8b2c517a9a77f25ff",
              "IPY_MODEL_6e28432f2991439a88befce421cd5b7b"
            ],
            "layout": "IPY_MODEL_826afeccc5804aa3b251317a05eda6f4"
          }
        },
        "f8b8987ea30f467e9bd899239c1a78c8": {
          "model_module": "@jupyter-widgets/controls",
          "model_name": "HTMLModel",
          "model_module_version": "1.5.0",
          "state": {
            "_dom_classes": [],
            "_model_module": "@jupyter-widgets/controls",
            "_model_module_version": "1.5.0",
            "_model_name": "HTMLModel",
            "_view_count": null,
            "_view_module": "@jupyter-widgets/controls",
            "_view_module_version": "1.5.0",
            "_view_name": "HTMLView",
            "description": "",
            "description_tooltip": null,
            "layout": "IPY_MODEL_100046de53864c7ca6a09522ec085afa",
            "placeholder": "​",
            "style": "IPY_MODEL_5e0dd59dc756491e85f52b353542893c",
            "value": "100%"
          }
        },
        "c898e4e28cf14bc8b2c517a9a77f25ff": {
          "model_module": "@jupyter-widgets/controls",
          "model_name": "FloatProgressModel",
          "model_module_version": "1.5.0",
          "state": {
            "_dom_classes": [],
            "_model_module": "@jupyter-widgets/controls",
            "_model_module_version": "1.5.0",
            "_model_name": "FloatProgressModel",
            "_view_count": null,
            "_view_module": "@jupyter-widgets/controls",
            "_view_module_version": "1.5.0",
            "_view_name": "ProgressView",
            "bar_style": "success",
            "description": "",
            "description_tooltip": null,
            "layout": "IPY_MODEL_f6ac1e03e50546ca99141eaaf09f9f0a",
            "max": 4245,
            "min": 0,
            "orientation": "horizontal",
            "style": "IPY_MODEL_5a04fab1c53549f79f24e86943b9af25",
            "value": 4245
          }
        },
        "6e28432f2991439a88befce421cd5b7b": {
          "model_module": "@jupyter-widgets/controls",
          "model_name": "HTMLModel",
          "model_module_version": "1.5.0",
          "state": {
            "_dom_classes": [],
            "_model_module": "@jupyter-widgets/controls",
            "_model_module_version": "1.5.0",
            "_model_name": "HTMLModel",
            "_view_count": null,
            "_view_module": "@jupyter-widgets/controls",
            "_view_module_version": "1.5.0",
            "_view_name": "HTMLView",
            "description": "",
            "description_tooltip": null,
            "layout": "IPY_MODEL_d3e6e8f6bcef46558dda4725a2a5223d",
            "placeholder": "​",
            "style": "IPY_MODEL_e2f073c3a2a6460abb72979bb752d737",
            "value": " 4245/4245 [00:01&lt;00:00, 5077.33it/s]"
          }
        },
        "826afeccc5804aa3b251317a05eda6f4": {
          "model_module": "@jupyter-widgets/base",
          "model_name": "LayoutModel",
          "model_module_version": "1.2.0",
          "state": {
            "_model_module": "@jupyter-widgets/base",
            "_model_module_version": "1.2.0",
            "_model_name": "LayoutModel",
            "_view_count": null,
            "_view_module": "@jupyter-widgets/base",
            "_view_module_version": "1.2.0",
            "_view_name": "LayoutView",
            "align_content": null,
            "align_items": null,
            "align_self": null,
            "border": null,
            "bottom": null,
            "display": null,
            "flex": null,
            "flex_flow": null,
            "grid_area": null,
            "grid_auto_columns": null,
            "grid_auto_flow": null,
            "grid_auto_rows": null,
            "grid_column": null,
            "grid_gap": null,
            "grid_row": null,
            "grid_template_areas": null,
            "grid_template_columns": null,
            "grid_template_rows": null,
            "height": null,
            "justify_content": null,
            "justify_items": null,
            "left": null,
            "margin": null,
            "max_height": null,
            "max_width": null,
            "min_height": null,
            "min_width": null,
            "object_fit": null,
            "object_position": null,
            "order": null,
            "overflow": null,
            "overflow_x": null,
            "overflow_y": null,
            "padding": null,
            "right": null,
            "top": null,
            "visibility": null,
            "width": null
          }
        },
        "100046de53864c7ca6a09522ec085afa": {
          "model_module": "@jupyter-widgets/base",
          "model_name": "LayoutModel",
          "model_module_version": "1.2.0",
          "state": {
            "_model_module": "@jupyter-widgets/base",
            "_model_module_version": "1.2.0",
            "_model_name": "LayoutModel",
            "_view_count": null,
            "_view_module": "@jupyter-widgets/base",
            "_view_module_version": "1.2.0",
            "_view_name": "LayoutView",
            "align_content": null,
            "align_items": null,
            "align_self": null,
            "border": null,
            "bottom": null,
            "display": null,
            "flex": null,
            "flex_flow": null,
            "grid_area": null,
            "grid_auto_columns": null,
            "grid_auto_flow": null,
            "grid_auto_rows": null,
            "grid_column": null,
            "grid_gap": null,
            "grid_row": null,
            "grid_template_areas": null,
            "grid_template_columns": null,
            "grid_template_rows": null,
            "height": null,
            "justify_content": null,
            "justify_items": null,
            "left": null,
            "margin": null,
            "max_height": null,
            "max_width": null,
            "min_height": null,
            "min_width": null,
            "object_fit": null,
            "object_position": null,
            "order": null,
            "overflow": null,
            "overflow_x": null,
            "overflow_y": null,
            "padding": null,
            "right": null,
            "top": null,
            "visibility": null,
            "width": null
          }
        },
        "5e0dd59dc756491e85f52b353542893c": {
          "model_module": "@jupyter-widgets/controls",
          "model_name": "DescriptionStyleModel",
          "model_module_version": "1.5.0",
          "state": {
            "_model_module": "@jupyter-widgets/controls",
            "_model_module_version": "1.5.0",
            "_model_name": "DescriptionStyleModel",
            "_view_count": null,
            "_view_module": "@jupyter-widgets/base",
            "_view_module_version": "1.2.0",
            "_view_name": "StyleView",
            "description_width": ""
          }
        },
        "f6ac1e03e50546ca99141eaaf09f9f0a": {
          "model_module": "@jupyter-widgets/base",
          "model_name": "LayoutModel",
          "model_module_version": "1.2.0",
          "state": {
            "_model_module": "@jupyter-widgets/base",
            "_model_module_version": "1.2.0",
            "_model_name": "LayoutModel",
            "_view_count": null,
            "_view_module": "@jupyter-widgets/base",
            "_view_module_version": "1.2.0",
            "_view_name": "LayoutView",
            "align_content": null,
            "align_items": null,
            "align_self": null,
            "border": null,
            "bottom": null,
            "display": null,
            "flex": null,
            "flex_flow": null,
            "grid_area": null,
            "grid_auto_columns": null,
            "grid_auto_flow": null,
            "grid_auto_rows": null,
            "grid_column": null,
            "grid_gap": null,
            "grid_row": null,
            "grid_template_areas": null,
            "grid_template_columns": null,
            "grid_template_rows": null,
            "height": null,
            "justify_content": null,
            "justify_items": null,
            "left": null,
            "margin": null,
            "max_height": null,
            "max_width": null,
            "min_height": null,
            "min_width": null,
            "object_fit": null,
            "object_position": null,
            "order": null,
            "overflow": null,
            "overflow_x": null,
            "overflow_y": null,
            "padding": null,
            "right": null,
            "top": null,
            "visibility": null,
            "width": null
          }
        },
        "5a04fab1c53549f79f24e86943b9af25": {
          "model_module": "@jupyter-widgets/controls",
          "model_name": "ProgressStyleModel",
          "model_module_version": "1.5.0",
          "state": {
            "_model_module": "@jupyter-widgets/controls",
            "_model_module_version": "1.5.0",
            "_model_name": "ProgressStyleModel",
            "_view_count": null,
            "_view_module": "@jupyter-widgets/base",
            "_view_module_version": "1.2.0",
            "_view_name": "StyleView",
            "bar_color": null,
            "description_width": ""
          }
        },
        "d3e6e8f6bcef46558dda4725a2a5223d": {
          "model_module": "@jupyter-widgets/base",
          "model_name": "LayoutModel",
          "model_module_version": "1.2.0",
          "state": {
            "_model_module": "@jupyter-widgets/base",
            "_model_module_version": "1.2.0",
            "_model_name": "LayoutModel",
            "_view_count": null,
            "_view_module": "@jupyter-widgets/base",
            "_view_module_version": "1.2.0",
            "_view_name": "LayoutView",
            "align_content": null,
            "align_items": null,
            "align_self": null,
            "border": null,
            "bottom": null,
            "display": null,
            "flex": null,
            "flex_flow": null,
            "grid_area": null,
            "grid_auto_columns": null,
            "grid_auto_flow": null,
            "grid_auto_rows": null,
            "grid_column": null,
            "grid_gap": null,
            "grid_row": null,
            "grid_template_areas": null,
            "grid_template_columns": null,
            "grid_template_rows": null,
            "height": null,
            "justify_content": null,
            "justify_items": null,
            "left": null,
            "margin": null,
            "max_height": null,
            "max_width": null,
            "min_height": null,
            "min_width": null,
            "object_fit": null,
            "object_position": null,
            "order": null,
            "overflow": null,
            "overflow_x": null,
            "overflow_y": null,
            "padding": null,
            "right": null,
            "top": null,
            "visibility": null,
            "width": null
          }
        },
        "e2f073c3a2a6460abb72979bb752d737": {
          "model_module": "@jupyter-widgets/controls",
          "model_name": "DescriptionStyleModel",
          "model_module_version": "1.5.0",
          "state": {
            "_model_module": "@jupyter-widgets/controls",
            "_model_module_version": "1.5.0",
            "_model_name": "DescriptionStyleModel",
            "_view_count": null,
            "_view_module": "@jupyter-widgets/base",
            "_view_module_version": "1.2.0",
            "_view_name": "StyleView",
            "description_width": ""
          }
        },
        "cf253ca681df4f169a15b0a2399d5126": {
          "model_module": "@jupyter-widgets/controls",
          "model_name": "HBoxModel",
          "model_module_version": "1.5.0",
          "state": {
            "_dom_classes": [],
            "_model_module": "@jupyter-widgets/controls",
            "_model_module_version": "1.5.0",
            "_model_name": "HBoxModel",
            "_view_count": null,
            "_view_module": "@jupyter-widgets/controls",
            "_view_module_version": "1.5.0",
            "_view_name": "HBoxView",
            "box_style": "",
            "children": [
              "IPY_MODEL_65e7cab832224161b68e3407c409c6fc",
              "IPY_MODEL_4785a132cb9f43418298ab9eb4a94f05",
              "IPY_MODEL_fce0daf89e61408f95b5d4ccbf8c8569"
            ],
            "layout": "IPY_MODEL_291c5f6ee4ad456ab79e585320058fe4"
          }
        },
        "65e7cab832224161b68e3407c409c6fc": {
          "model_module": "@jupyter-widgets/controls",
          "model_name": "HTMLModel",
          "model_module_version": "1.5.0",
          "state": {
            "_dom_classes": [],
            "_model_module": "@jupyter-widgets/controls",
            "_model_module_version": "1.5.0",
            "_model_name": "HTMLModel",
            "_view_count": null,
            "_view_module": "@jupyter-widgets/controls",
            "_view_module_version": "1.5.0",
            "_view_name": "HTMLView",
            "description": "",
            "description_tooltip": null,
            "layout": "IPY_MODEL_520a83b21b9848e599f9a6f4e0783d3d",
            "placeholder": "​",
            "style": "IPY_MODEL_c381e2a643b54872939d3e2b5ac92796",
            "value": "100%"
          }
        },
        "4785a132cb9f43418298ab9eb4a94f05": {
          "model_module": "@jupyter-widgets/controls",
          "model_name": "FloatProgressModel",
          "model_module_version": "1.5.0",
          "state": {
            "_dom_classes": [],
            "_model_module": "@jupyter-widgets/controls",
            "_model_module_version": "1.5.0",
            "_model_name": "FloatProgressModel",
            "_view_count": null,
            "_view_module": "@jupyter-widgets/controls",
            "_view_module_version": "1.5.0",
            "_view_name": "ProgressView",
            "bar_style": "success",
            "description": "",
            "description_tooltip": null,
            "layout": "IPY_MODEL_62ddfafbcd0444a192ab01f4619dac06",
            "max": 70405,
            "min": 0,
            "orientation": "horizontal",
            "style": "IPY_MODEL_e5c202ae7d1642bc9f57187bb75d6c57",
            "value": 70405
          }
        },
        "fce0daf89e61408f95b5d4ccbf8c8569": {
          "model_module": "@jupyter-widgets/controls",
          "model_name": "HTMLModel",
          "model_module_version": "1.5.0",
          "state": {
            "_dom_classes": [],
            "_model_module": "@jupyter-widgets/controls",
            "_model_module_version": "1.5.0",
            "_model_name": "HTMLModel",
            "_view_count": null,
            "_view_module": "@jupyter-widgets/controls",
            "_view_module_version": "1.5.0",
            "_view_name": "HTMLView",
            "description": "",
            "description_tooltip": null,
            "layout": "IPY_MODEL_5e0dcd0e08114babb2cea18882e9f616",
            "placeholder": "​",
            "style": "IPY_MODEL_ef51d3a823b842148cb97020594492eb",
            "value": " 70405/70405 [00:18&lt;00:00, 4814.30it/s]"
          }
        },
        "291c5f6ee4ad456ab79e585320058fe4": {
          "model_module": "@jupyter-widgets/base",
          "model_name": "LayoutModel",
          "model_module_version": "1.2.0",
          "state": {
            "_model_module": "@jupyter-widgets/base",
            "_model_module_version": "1.2.0",
            "_model_name": "LayoutModel",
            "_view_count": null,
            "_view_module": "@jupyter-widgets/base",
            "_view_module_version": "1.2.0",
            "_view_name": "LayoutView",
            "align_content": null,
            "align_items": null,
            "align_self": null,
            "border": null,
            "bottom": null,
            "display": null,
            "flex": null,
            "flex_flow": null,
            "grid_area": null,
            "grid_auto_columns": null,
            "grid_auto_flow": null,
            "grid_auto_rows": null,
            "grid_column": null,
            "grid_gap": null,
            "grid_row": null,
            "grid_template_areas": null,
            "grid_template_columns": null,
            "grid_template_rows": null,
            "height": null,
            "justify_content": null,
            "justify_items": null,
            "left": null,
            "margin": null,
            "max_height": null,
            "max_width": null,
            "min_height": null,
            "min_width": null,
            "object_fit": null,
            "object_position": null,
            "order": null,
            "overflow": null,
            "overflow_x": null,
            "overflow_y": null,
            "padding": null,
            "right": null,
            "top": null,
            "visibility": null,
            "width": null
          }
        },
        "520a83b21b9848e599f9a6f4e0783d3d": {
          "model_module": "@jupyter-widgets/base",
          "model_name": "LayoutModel",
          "model_module_version": "1.2.0",
          "state": {
            "_model_module": "@jupyter-widgets/base",
            "_model_module_version": "1.2.0",
            "_model_name": "LayoutModel",
            "_view_count": null,
            "_view_module": "@jupyter-widgets/base",
            "_view_module_version": "1.2.0",
            "_view_name": "LayoutView",
            "align_content": null,
            "align_items": null,
            "align_self": null,
            "border": null,
            "bottom": null,
            "display": null,
            "flex": null,
            "flex_flow": null,
            "grid_area": null,
            "grid_auto_columns": null,
            "grid_auto_flow": null,
            "grid_auto_rows": null,
            "grid_column": null,
            "grid_gap": null,
            "grid_row": null,
            "grid_template_areas": null,
            "grid_template_columns": null,
            "grid_template_rows": null,
            "height": null,
            "justify_content": null,
            "justify_items": null,
            "left": null,
            "margin": null,
            "max_height": null,
            "max_width": null,
            "min_height": null,
            "min_width": null,
            "object_fit": null,
            "object_position": null,
            "order": null,
            "overflow": null,
            "overflow_x": null,
            "overflow_y": null,
            "padding": null,
            "right": null,
            "top": null,
            "visibility": null,
            "width": null
          }
        },
        "c381e2a643b54872939d3e2b5ac92796": {
          "model_module": "@jupyter-widgets/controls",
          "model_name": "DescriptionStyleModel",
          "model_module_version": "1.5.0",
          "state": {
            "_model_module": "@jupyter-widgets/controls",
            "_model_module_version": "1.5.0",
            "_model_name": "DescriptionStyleModel",
            "_view_count": null,
            "_view_module": "@jupyter-widgets/base",
            "_view_module_version": "1.2.0",
            "_view_name": "StyleView",
            "description_width": ""
          }
        },
        "62ddfafbcd0444a192ab01f4619dac06": {
          "model_module": "@jupyter-widgets/base",
          "model_name": "LayoutModel",
          "model_module_version": "1.2.0",
          "state": {
            "_model_module": "@jupyter-widgets/base",
            "_model_module_version": "1.2.0",
            "_model_name": "LayoutModel",
            "_view_count": null,
            "_view_module": "@jupyter-widgets/base",
            "_view_module_version": "1.2.0",
            "_view_name": "LayoutView",
            "align_content": null,
            "align_items": null,
            "align_self": null,
            "border": null,
            "bottom": null,
            "display": null,
            "flex": null,
            "flex_flow": null,
            "grid_area": null,
            "grid_auto_columns": null,
            "grid_auto_flow": null,
            "grid_auto_rows": null,
            "grid_column": null,
            "grid_gap": null,
            "grid_row": null,
            "grid_template_areas": null,
            "grid_template_columns": null,
            "grid_template_rows": null,
            "height": null,
            "justify_content": null,
            "justify_items": null,
            "left": null,
            "margin": null,
            "max_height": null,
            "max_width": null,
            "min_height": null,
            "min_width": null,
            "object_fit": null,
            "object_position": null,
            "order": null,
            "overflow": null,
            "overflow_x": null,
            "overflow_y": null,
            "padding": null,
            "right": null,
            "top": null,
            "visibility": null,
            "width": null
          }
        },
        "e5c202ae7d1642bc9f57187bb75d6c57": {
          "model_module": "@jupyter-widgets/controls",
          "model_name": "ProgressStyleModel",
          "model_module_version": "1.5.0",
          "state": {
            "_model_module": "@jupyter-widgets/controls",
            "_model_module_version": "1.5.0",
            "_model_name": "ProgressStyleModel",
            "_view_count": null,
            "_view_module": "@jupyter-widgets/base",
            "_view_module_version": "1.2.0",
            "_view_name": "StyleView",
            "bar_color": null,
            "description_width": ""
          }
        },
        "5e0dcd0e08114babb2cea18882e9f616": {
          "model_module": "@jupyter-widgets/base",
          "model_name": "LayoutModel",
          "model_module_version": "1.2.0",
          "state": {
            "_model_module": "@jupyter-widgets/base",
            "_model_module_version": "1.2.0",
            "_model_name": "LayoutModel",
            "_view_count": null,
            "_view_module": "@jupyter-widgets/base",
            "_view_module_version": "1.2.0",
            "_view_name": "LayoutView",
            "align_content": null,
            "align_items": null,
            "align_self": null,
            "border": null,
            "bottom": null,
            "display": null,
            "flex": null,
            "flex_flow": null,
            "grid_area": null,
            "grid_auto_columns": null,
            "grid_auto_flow": null,
            "grid_auto_rows": null,
            "grid_column": null,
            "grid_gap": null,
            "grid_row": null,
            "grid_template_areas": null,
            "grid_template_columns": null,
            "grid_template_rows": null,
            "height": null,
            "justify_content": null,
            "justify_items": null,
            "left": null,
            "margin": null,
            "max_height": null,
            "max_width": null,
            "min_height": null,
            "min_width": null,
            "object_fit": null,
            "object_position": null,
            "order": null,
            "overflow": null,
            "overflow_x": null,
            "overflow_y": null,
            "padding": null,
            "right": null,
            "top": null,
            "visibility": null,
            "width": null
          }
        },
        "ef51d3a823b842148cb97020594492eb": {
          "model_module": "@jupyter-widgets/controls",
          "model_name": "DescriptionStyleModel",
          "model_module_version": "1.5.0",
          "state": {
            "_model_module": "@jupyter-widgets/controls",
            "_model_module_version": "1.5.0",
            "_model_name": "DescriptionStyleModel",
            "_view_count": null,
            "_view_module": "@jupyter-widgets/base",
            "_view_module_version": "1.2.0",
            "_view_name": "StyleView",
            "description_width": ""
          }
        },
        "2f1b30f4af374958a13923bbf8eee99e": {
          "model_module": "@jupyter-widgets/controls",
          "model_name": "HBoxModel",
          "model_module_version": "1.5.0",
          "state": {
            "_dom_classes": [],
            "_model_module": "@jupyter-widgets/controls",
            "_model_module_version": "1.5.0",
            "_model_name": "HBoxModel",
            "_view_count": null,
            "_view_module": "@jupyter-widgets/controls",
            "_view_module_version": "1.5.0",
            "_view_name": "HBoxView",
            "box_style": "",
            "children": [
              "IPY_MODEL_f2177008c5e148d5b127ffb309f9777a",
              "IPY_MODEL_258eee32078f4da7ad4cd23bcb92bf28",
              "IPY_MODEL_3436c00fc83a464a9cd5c0589f18459d"
            ],
            "layout": "IPY_MODEL_da74ceda587948fcaf3cb6724897fcfc"
          }
        },
        "f2177008c5e148d5b127ffb309f9777a": {
          "model_module": "@jupyter-widgets/controls",
          "model_name": "HTMLModel",
          "model_module_version": "1.5.0",
          "state": {
            "_dom_classes": [],
            "_model_module": "@jupyter-widgets/controls",
            "_model_module_version": "1.5.0",
            "_model_name": "HTMLModel",
            "_view_count": null,
            "_view_module": "@jupyter-widgets/controls",
            "_view_module_version": "1.5.0",
            "_view_name": "HTMLView",
            "description": "",
            "description_tooltip": null,
            "layout": "IPY_MODEL_2ad72565b8a34aa89408d97cc16eb61b",
            "placeholder": "​",
            "style": "IPY_MODEL_00bb64cce1a74a3d840fe8e3949bc97c",
            "value": "100%"
          }
        },
        "258eee32078f4da7ad4cd23bcb92bf28": {
          "model_module": "@jupyter-widgets/controls",
          "model_name": "FloatProgressModel",
          "model_module_version": "1.5.0",
          "state": {
            "_dom_classes": [],
            "_model_module": "@jupyter-widgets/controls",
            "_model_module_version": "1.5.0",
            "_model_name": "FloatProgressModel",
            "_view_count": null,
            "_view_module": "@jupyter-widgets/controls",
            "_view_module_version": "1.5.0",
            "_view_name": "ProgressView",
            "bar_style": "success",
            "description": "",
            "description_tooltip": null,
            "layout": "IPY_MODEL_c1350edc15954b859c6bb50a6613865d",
            "max": 4245,
            "min": 0,
            "orientation": "horizontal",
            "style": "IPY_MODEL_1b20744f2f1f4887a5fb5dc684eaa258",
            "value": 4245
          }
        },
        "3436c00fc83a464a9cd5c0589f18459d": {
          "model_module": "@jupyter-widgets/controls",
          "model_name": "HTMLModel",
          "model_module_version": "1.5.0",
          "state": {
            "_dom_classes": [],
            "_model_module": "@jupyter-widgets/controls",
            "_model_module_version": "1.5.0",
            "_model_name": "HTMLModel",
            "_view_count": null,
            "_view_module": "@jupyter-widgets/controls",
            "_view_module_version": "1.5.0",
            "_view_name": "HTMLView",
            "description": "",
            "description_tooltip": null,
            "layout": "IPY_MODEL_0497718c422c4c15959a2c86056d4635",
            "placeholder": "​",
            "style": "IPY_MODEL_98a41c2385c04b02a7a5a0d64e244d5c",
            "value": " 4245/4245 [00:03&lt;00:00, 1064.05it/s]"
          }
        },
        "da74ceda587948fcaf3cb6724897fcfc": {
          "model_module": "@jupyter-widgets/base",
          "model_name": "LayoutModel",
          "model_module_version": "1.2.0",
          "state": {
            "_model_module": "@jupyter-widgets/base",
            "_model_module_version": "1.2.0",
            "_model_name": "LayoutModel",
            "_view_count": null,
            "_view_module": "@jupyter-widgets/base",
            "_view_module_version": "1.2.0",
            "_view_name": "LayoutView",
            "align_content": null,
            "align_items": null,
            "align_self": null,
            "border": null,
            "bottom": null,
            "display": null,
            "flex": null,
            "flex_flow": null,
            "grid_area": null,
            "grid_auto_columns": null,
            "grid_auto_flow": null,
            "grid_auto_rows": null,
            "grid_column": null,
            "grid_gap": null,
            "grid_row": null,
            "grid_template_areas": null,
            "grid_template_columns": null,
            "grid_template_rows": null,
            "height": null,
            "justify_content": null,
            "justify_items": null,
            "left": null,
            "margin": null,
            "max_height": null,
            "max_width": null,
            "min_height": null,
            "min_width": null,
            "object_fit": null,
            "object_position": null,
            "order": null,
            "overflow": null,
            "overflow_x": null,
            "overflow_y": null,
            "padding": null,
            "right": null,
            "top": null,
            "visibility": null,
            "width": null
          }
        },
        "2ad72565b8a34aa89408d97cc16eb61b": {
          "model_module": "@jupyter-widgets/base",
          "model_name": "LayoutModel",
          "model_module_version": "1.2.0",
          "state": {
            "_model_module": "@jupyter-widgets/base",
            "_model_module_version": "1.2.0",
            "_model_name": "LayoutModel",
            "_view_count": null,
            "_view_module": "@jupyter-widgets/base",
            "_view_module_version": "1.2.0",
            "_view_name": "LayoutView",
            "align_content": null,
            "align_items": null,
            "align_self": null,
            "border": null,
            "bottom": null,
            "display": null,
            "flex": null,
            "flex_flow": null,
            "grid_area": null,
            "grid_auto_columns": null,
            "grid_auto_flow": null,
            "grid_auto_rows": null,
            "grid_column": null,
            "grid_gap": null,
            "grid_row": null,
            "grid_template_areas": null,
            "grid_template_columns": null,
            "grid_template_rows": null,
            "height": null,
            "justify_content": null,
            "justify_items": null,
            "left": null,
            "margin": null,
            "max_height": null,
            "max_width": null,
            "min_height": null,
            "min_width": null,
            "object_fit": null,
            "object_position": null,
            "order": null,
            "overflow": null,
            "overflow_x": null,
            "overflow_y": null,
            "padding": null,
            "right": null,
            "top": null,
            "visibility": null,
            "width": null
          }
        },
        "00bb64cce1a74a3d840fe8e3949bc97c": {
          "model_module": "@jupyter-widgets/controls",
          "model_name": "DescriptionStyleModel",
          "model_module_version": "1.5.0",
          "state": {
            "_model_module": "@jupyter-widgets/controls",
            "_model_module_version": "1.5.0",
            "_model_name": "DescriptionStyleModel",
            "_view_count": null,
            "_view_module": "@jupyter-widgets/base",
            "_view_module_version": "1.2.0",
            "_view_name": "StyleView",
            "description_width": ""
          }
        },
        "c1350edc15954b859c6bb50a6613865d": {
          "model_module": "@jupyter-widgets/base",
          "model_name": "LayoutModel",
          "model_module_version": "1.2.0",
          "state": {
            "_model_module": "@jupyter-widgets/base",
            "_model_module_version": "1.2.0",
            "_model_name": "LayoutModel",
            "_view_count": null,
            "_view_module": "@jupyter-widgets/base",
            "_view_module_version": "1.2.0",
            "_view_name": "LayoutView",
            "align_content": null,
            "align_items": null,
            "align_self": null,
            "border": null,
            "bottom": null,
            "display": null,
            "flex": null,
            "flex_flow": null,
            "grid_area": null,
            "grid_auto_columns": null,
            "grid_auto_flow": null,
            "grid_auto_rows": null,
            "grid_column": null,
            "grid_gap": null,
            "grid_row": null,
            "grid_template_areas": null,
            "grid_template_columns": null,
            "grid_template_rows": null,
            "height": null,
            "justify_content": null,
            "justify_items": null,
            "left": null,
            "margin": null,
            "max_height": null,
            "max_width": null,
            "min_height": null,
            "min_width": null,
            "object_fit": null,
            "object_position": null,
            "order": null,
            "overflow": null,
            "overflow_x": null,
            "overflow_y": null,
            "padding": null,
            "right": null,
            "top": null,
            "visibility": null,
            "width": null
          }
        },
        "1b20744f2f1f4887a5fb5dc684eaa258": {
          "model_module": "@jupyter-widgets/controls",
          "model_name": "ProgressStyleModel",
          "model_module_version": "1.5.0",
          "state": {
            "_model_module": "@jupyter-widgets/controls",
            "_model_module_version": "1.5.0",
            "_model_name": "ProgressStyleModel",
            "_view_count": null,
            "_view_module": "@jupyter-widgets/base",
            "_view_module_version": "1.2.0",
            "_view_name": "StyleView",
            "bar_color": null,
            "description_width": ""
          }
        },
        "0497718c422c4c15959a2c86056d4635": {
          "model_module": "@jupyter-widgets/base",
          "model_name": "LayoutModel",
          "model_module_version": "1.2.0",
          "state": {
            "_model_module": "@jupyter-widgets/base",
            "_model_module_version": "1.2.0",
            "_model_name": "LayoutModel",
            "_view_count": null,
            "_view_module": "@jupyter-widgets/base",
            "_view_module_version": "1.2.0",
            "_view_name": "LayoutView",
            "align_content": null,
            "align_items": null,
            "align_self": null,
            "border": null,
            "bottom": null,
            "display": null,
            "flex": null,
            "flex_flow": null,
            "grid_area": null,
            "grid_auto_columns": null,
            "grid_auto_flow": null,
            "grid_auto_rows": null,
            "grid_column": null,
            "grid_gap": null,
            "grid_row": null,
            "grid_template_areas": null,
            "grid_template_columns": null,
            "grid_template_rows": null,
            "height": null,
            "justify_content": null,
            "justify_items": null,
            "left": null,
            "margin": null,
            "max_height": null,
            "max_width": null,
            "min_height": null,
            "min_width": null,
            "object_fit": null,
            "object_position": null,
            "order": null,
            "overflow": null,
            "overflow_x": null,
            "overflow_y": null,
            "padding": null,
            "right": null,
            "top": null,
            "visibility": null,
            "width": null
          }
        },
        "98a41c2385c04b02a7a5a0d64e244d5c": {
          "model_module": "@jupyter-widgets/controls",
          "model_name": "DescriptionStyleModel",
          "model_module_version": "1.5.0",
          "state": {
            "_model_module": "@jupyter-widgets/controls",
            "_model_module_version": "1.5.0",
            "_model_name": "DescriptionStyleModel",
            "_view_count": null,
            "_view_module": "@jupyter-widgets/base",
            "_view_module_version": "1.2.0",
            "_view_name": "StyleView",
            "description_width": ""
          }
        }
      }
    }
  },
  "cells": [
    {
      "cell_type": "markdown",
      "metadata": {
        "id": "view-in-github",
        "colab_type": "text"
      },
      "source": [
        "<a href=\"https://colab.research.google.com/github/sivanitzhaki/AdvancedMLDLCourse-Task3/blob/main/exercise3.ipynb\" target=\"_parent\"><img src=\"https://colab.research.google.com/assets/colab-badge.svg\" alt=\"Open In Colab\"/></a>"
      ]
    },
    {
      "cell_type": "markdown",
      "source": [
        "# **Excercise 3 - Assignment III - NLP: Seinfeld or Friends?**"
      ],
      "metadata": {
        "id": "IFYfHviDAj8O"
      }
    },
    {
      "cell_type": "markdown",
      "source": [
        "Sivan Itzhaki\n",
        "\n",
        "Rotem Ecker\n",
        "\n",
        "Mor Schenavsky\n",
        "\n",
        "Brit Lev"
      ],
      "metadata": {
        "id": "TS60oun3At7C"
      }
    },
    {
      "cell_type": "code",
      "source": [
        "import pandas as pd\n",
        "import numpy as np\n",
        "import os\n",
        "\n",
        "\n",
        "import matplotlib.pyplot as plt\n",
        "import seaborn as sns\n",
        "\n",
        "from sklearn.model_selection import train_test_split\n",
        "from sklearn.metrics import accuracy_score\n",
        "from sklearn.metrics import confusion_matrix\n",
        "from sklearn.metrics import ConfusionMatrixDisplay as display_matrix\n",
        "from bs4 import BeautifulSoup\n",
        "import re\n",
        "import nltk\n",
        "from tqdm.notebook import tqdm\n",
        "tqdm.pandas()\n",
        "from sklearn.preprocessing import LabelBinarizer\n",
        "from nltk.tokenize.toktok import ToktokTokenizer\n",
        "from keras.models import Sequential\n",
        "from keras.layers import Dropout, Conv1D, Flatten, Dense, Embedding\n",
        "import tensorflow as tf\n",
        "from tensorflow.keras.preprocessing import sequence\n",
        "from tensorflow.keras.preprocessing.text import Tokenizer  \n",
        "import matplotlib.pyplot as plt\n",
        "from wordcloud import WordCloud"
      ],
      "metadata": {
        "id": "N66ol6_LVfwX"
      },
      "execution_count": null,
      "outputs": []
    },
    {
      "cell_type": "code",
      "source": [
        "#np.random.seed(42)\n",
        "tf.random.set_seed(42)"
      ],
      "metadata": {
        "id": "1uYLTPtc5wC0"
      },
      "execution_count": null,
      "outputs": []
    },
    {
      "cell_type": "markdown",
      "source": [
        "load the data:"
      ],
      "metadata": {
        "id": "WPkye8gEdRse"
      }
    },
    {
      "cell_type": "code",
      "execution_count": null,
      "metadata": {
        "id": "3cUUYRMCUUl3"
      },
      "outputs": [],
      "source": [
        "train_df = pd.read_csv('https://github.com/odedovadia/AdvancedMLDLCourse/blob/main/Assignments/Assignment%20III/train.csv?raw=true')\n",
        "test_df = pd.read_csv('https://github.com/odedovadia/AdvancedMLDLCourse/blob/main/Assignments/Assignment%20III/test.csv?raw=true')"
      ]
    },
    {
      "cell_type": "markdown",
      "source": [
        "The dataset contains information about Seinfeld and friends episodes:"
      ],
      "metadata": {
        "id": "kXnZJ1PbeCNp"
      }
    },
    {
      "cell_type": "code",
      "source": [
        "train_df"
      ],
      "metadata": {
        "colab": {
          "base_uri": "https://localhost:8080/",
          "height": 424
        },
        "id": "8BubHvfJeC4I",
        "outputId": "5a6011fc-f01c-4f6f-8715-84cf563cb2e9"
      },
      "execution_count": null,
      "outputs": [
        {
          "output_type": "execute_result",
          "data": {
            "text/plain": [
              "                                                Dialogue Character  \\\n",
              "0                                                   Hey.      joey   \n",
              "1       (to Joey) Are you gonna be embarrassed going ...    phoebe   \n",
              "2      Me? No no no, you. You're gonna tell him. I'm ...    elaine   \n",
              "3       Alright you guys are off to party number one ...  chandler   \n",
              "4      Am I? Or am I so sane that you just blew your ...    kramer   \n",
              "...                                                  ...       ...   \n",
              "70400                                       Pretty much.     jerry   \n",
              "70401   Oh, well um, not right now. Y'know I’m just g...    phoebe   \n",
              "70402                Ooh, I think I wanna trade circles.    phoebe   \n",
              "70403      Hey, hey, what is this? What's going on here?     jerry   \n",
              "70404                                I want the massage!     jerry   \n",
              "\n",
              "                                                 Episode      Show  \\\n",
              "0         Season-07 Episode-13-The One Where Rosita Dies   Friends   \n",
              "1             Season-10 Episode-04-The One With The Cake   Friends   \n",
              "2                                                 S03E22  Seinfeld   \n",
              "3      Season-02 Episode-22-The One With the Two Parties   Friends   \n",
              "4                                                 S05E12  Seinfeld   \n",
              "...                                                  ...       ...   \n",
              "70400                                             S05E09  Seinfeld   \n",
              "70401        Season-03 Episode-05-The One With Frank Jr.   Friends   \n",
              "70402   Season-07 Episode-22-The One With Chandler’s Dad   Friends   \n",
              "70403                                             S05E03  Seinfeld   \n",
              "70404                                             S05E09  Seinfeld   \n",
              "\n",
              "       Dialogue_length  \n",
              "0                    1  \n",
              "1                   13  \n",
              "2                   14  \n",
              "3                   56  \n",
              "4                   13  \n",
              "...                ...  \n",
              "70400                2  \n",
              "70401               22  \n",
              "70402                7  \n",
              "70403                9  \n",
              "70404                4  \n",
              "\n",
              "[70405 rows x 5 columns]"
            ],
            "text/html": [
              "\n",
              "  <div id=\"df-08cd2a8a-1f4b-4228-b24d-458d5c5356a1\">\n",
              "    <div class=\"colab-df-container\">\n",
              "      <div>\n",
              "<style scoped>\n",
              "    .dataframe tbody tr th:only-of-type {\n",
              "        vertical-align: middle;\n",
              "    }\n",
              "\n",
              "    .dataframe tbody tr th {\n",
              "        vertical-align: top;\n",
              "    }\n",
              "\n",
              "    .dataframe thead th {\n",
              "        text-align: right;\n",
              "    }\n",
              "</style>\n",
              "<table border=\"1\" class=\"dataframe\">\n",
              "  <thead>\n",
              "    <tr style=\"text-align: right;\">\n",
              "      <th></th>\n",
              "      <th>Dialogue</th>\n",
              "      <th>Character</th>\n",
              "      <th>Episode</th>\n",
              "      <th>Show</th>\n",
              "      <th>Dialogue_length</th>\n",
              "    </tr>\n",
              "  </thead>\n",
              "  <tbody>\n",
              "    <tr>\n",
              "      <th>0</th>\n",
              "      <td>Hey.</td>\n",
              "      <td>joey</td>\n",
              "      <td>Season-07 Episode-13-The One Where Rosita Dies</td>\n",
              "      <td>Friends</td>\n",
              "      <td>1</td>\n",
              "    </tr>\n",
              "    <tr>\n",
              "      <th>1</th>\n",
              "      <td>(to Joey) Are you gonna be embarrassed going ...</td>\n",
              "      <td>phoebe</td>\n",
              "      <td>Season-10 Episode-04-The One With The Cake</td>\n",
              "      <td>Friends</td>\n",
              "      <td>13</td>\n",
              "    </tr>\n",
              "    <tr>\n",
              "      <th>2</th>\n",
              "      <td>Me? No no no, you. You're gonna tell him. I'm ...</td>\n",
              "      <td>elaine</td>\n",
              "      <td>S03E22</td>\n",
              "      <td>Seinfeld</td>\n",
              "      <td>14</td>\n",
              "    </tr>\n",
              "    <tr>\n",
              "      <th>3</th>\n",
              "      <td>Alright you guys are off to party number one ...</td>\n",
              "      <td>chandler</td>\n",
              "      <td>Season-02 Episode-22-The One With the Two Parties</td>\n",
              "      <td>Friends</td>\n",
              "      <td>56</td>\n",
              "    </tr>\n",
              "    <tr>\n",
              "      <th>4</th>\n",
              "      <td>Am I? Or am I so sane that you just blew your ...</td>\n",
              "      <td>kramer</td>\n",
              "      <td>S05E12</td>\n",
              "      <td>Seinfeld</td>\n",
              "      <td>13</td>\n",
              "    </tr>\n",
              "    <tr>\n",
              "      <th>...</th>\n",
              "      <td>...</td>\n",
              "      <td>...</td>\n",
              "      <td>...</td>\n",
              "      <td>...</td>\n",
              "      <td>...</td>\n",
              "    </tr>\n",
              "    <tr>\n",
              "      <th>70400</th>\n",
              "      <td>Pretty much.</td>\n",
              "      <td>jerry</td>\n",
              "      <td>S05E09</td>\n",
              "      <td>Seinfeld</td>\n",
              "      <td>2</td>\n",
              "    </tr>\n",
              "    <tr>\n",
              "      <th>70401</th>\n",
              "      <td>Oh, well um, not right now. Y'know I’m just g...</td>\n",
              "      <td>phoebe</td>\n",
              "      <td>Season-03 Episode-05-The One With Frank Jr.</td>\n",
              "      <td>Friends</td>\n",
              "      <td>22</td>\n",
              "    </tr>\n",
              "    <tr>\n",
              "      <th>70402</th>\n",
              "      <td>Ooh, I think I wanna trade circles.</td>\n",
              "      <td>phoebe</td>\n",
              "      <td>Season-07 Episode-22-The One With Chandler’s Dad</td>\n",
              "      <td>Friends</td>\n",
              "      <td>7</td>\n",
              "    </tr>\n",
              "    <tr>\n",
              "      <th>70403</th>\n",
              "      <td>Hey, hey, what is this? What's going on here?</td>\n",
              "      <td>jerry</td>\n",
              "      <td>S05E03</td>\n",
              "      <td>Seinfeld</td>\n",
              "      <td>9</td>\n",
              "    </tr>\n",
              "    <tr>\n",
              "      <th>70404</th>\n",
              "      <td>I want the massage!</td>\n",
              "      <td>jerry</td>\n",
              "      <td>S05E09</td>\n",
              "      <td>Seinfeld</td>\n",
              "      <td>4</td>\n",
              "    </tr>\n",
              "  </tbody>\n",
              "</table>\n",
              "<p>70405 rows × 5 columns</p>\n",
              "</div>\n",
              "      <button class=\"colab-df-convert\" onclick=\"convertToInteractive('df-08cd2a8a-1f4b-4228-b24d-458d5c5356a1')\"\n",
              "              title=\"Convert this dataframe to an interactive table.\"\n",
              "              style=\"display:none;\">\n",
              "        \n",
              "  <svg xmlns=\"http://www.w3.org/2000/svg\" height=\"24px\"viewBox=\"0 0 24 24\"\n",
              "       width=\"24px\">\n",
              "    <path d=\"M0 0h24v24H0V0z\" fill=\"none\"/>\n",
              "    <path d=\"M18.56 5.44l.94 2.06.94-2.06 2.06-.94-2.06-.94-.94-2.06-.94 2.06-2.06.94zm-11 1L8.5 8.5l.94-2.06 2.06-.94-2.06-.94L8.5 2.5l-.94 2.06-2.06.94zm10 10l.94 2.06.94-2.06 2.06-.94-2.06-.94-.94-2.06-.94 2.06-2.06.94z\"/><path d=\"M17.41 7.96l-1.37-1.37c-.4-.4-.92-.59-1.43-.59-.52 0-1.04.2-1.43.59L10.3 9.45l-7.72 7.72c-.78.78-.78 2.05 0 2.83L4 21.41c.39.39.9.59 1.41.59.51 0 1.02-.2 1.41-.59l7.78-7.78 2.81-2.81c.8-.78.8-2.07 0-2.86zM5.41 20L4 18.59l7.72-7.72 1.47 1.35L5.41 20z\"/>\n",
              "  </svg>\n",
              "      </button>\n",
              "      \n",
              "  <style>\n",
              "    .colab-df-container {\n",
              "      display:flex;\n",
              "      flex-wrap:wrap;\n",
              "      gap: 12px;\n",
              "    }\n",
              "\n",
              "    .colab-df-convert {\n",
              "      background-color: #E8F0FE;\n",
              "      border: none;\n",
              "      border-radius: 50%;\n",
              "      cursor: pointer;\n",
              "      display: none;\n",
              "      fill: #1967D2;\n",
              "      height: 32px;\n",
              "      padding: 0 0 0 0;\n",
              "      width: 32px;\n",
              "    }\n",
              "\n",
              "    .colab-df-convert:hover {\n",
              "      background-color: #E2EBFA;\n",
              "      box-shadow: 0px 1px 2px rgba(60, 64, 67, 0.3), 0px 1px 3px 1px rgba(60, 64, 67, 0.15);\n",
              "      fill: #174EA6;\n",
              "    }\n",
              "\n",
              "    [theme=dark] .colab-df-convert {\n",
              "      background-color: #3B4455;\n",
              "      fill: #D2E3FC;\n",
              "    }\n",
              "\n",
              "    [theme=dark] .colab-df-convert:hover {\n",
              "      background-color: #434B5C;\n",
              "      box-shadow: 0px 1px 3px 1px rgba(0, 0, 0, 0.15);\n",
              "      filter: drop-shadow(0px 1px 2px rgba(0, 0, 0, 0.3));\n",
              "      fill: #FFFFFF;\n",
              "    }\n",
              "  </style>\n",
              "\n",
              "      <script>\n",
              "        const buttonEl =\n",
              "          document.querySelector('#df-08cd2a8a-1f4b-4228-b24d-458d5c5356a1 button.colab-df-convert');\n",
              "        buttonEl.style.display =\n",
              "          google.colab.kernel.accessAllowed ? 'block' : 'none';\n",
              "\n",
              "        async function convertToInteractive(key) {\n",
              "          const element = document.querySelector('#df-08cd2a8a-1f4b-4228-b24d-458d5c5356a1');\n",
              "          const dataTable =\n",
              "            await google.colab.kernel.invokeFunction('convertToInteractive',\n",
              "                                                     [key], {});\n",
              "          if (!dataTable) return;\n",
              "\n",
              "          const docLinkHtml = 'Like what you see? Visit the ' +\n",
              "            '<a target=\"_blank\" href=https://colab.research.google.com/notebooks/data_table.ipynb>data table notebook</a>'\n",
              "            + ' to learn more about interactive tables.';\n",
              "          element.innerHTML = '';\n",
              "          dataTable['output_type'] = 'display_data';\n",
              "          await google.colab.output.renderOutput(dataTable, element);\n",
              "          const docLink = document.createElement('div');\n",
              "          docLink.innerHTML = docLinkHtml;\n",
              "          element.appendChild(docLink);\n",
              "        }\n",
              "      </script>\n",
              "    </div>\n",
              "  </div>\n",
              "  "
            ]
          },
          "metadata": {},
          "execution_count": 52
        }
      ]
    },
    {
      "cell_type": "markdown",
      "source": [
        "We can see that the text includes director remarks which we will have to handle in the preprocessing."
      ],
      "metadata": {
        "id": "zpWj21YCfKLQ"
      }
    },
    {
      "cell_type": "code",
      "source": [
        "train_df[:15]"
      ],
      "metadata": {
        "colab": {
          "base_uri": "https://localhost:8080/",
          "height": 520
        },
        "id": "aWxdTMblet3A",
        "outputId": "e633354a-42ac-49ad-9d57-2d880652d46b"
      },
      "execution_count": null,
      "outputs": [
        {
          "output_type": "execute_result",
          "data": {
            "text/plain": [
              "                                             Dialogue Character  \\\n",
              "0                                                Hey.      joey   \n",
              "1    (to Joey) Are you gonna be embarrassed going ...    phoebe   \n",
              "2   Me? No no no, you. You're gonna tell him. I'm ...    elaine   \n",
              "3    Alright you guys are off to party number one ...  chandler   \n",
              "4   Am I? Or am I so sane that you just blew your ...    kramer   \n",
              "5    So, if you’re parents hadn’t got divorced, yo...    monica   \n",
              "6                                          What's up?      ross   \n",
              "7    (over-enthusiastic) I don't know, I don' I do...  chandler   \n",
              "8    I know. *He* always wanted to be the first bl...  chandler   \n",
              "9                  This uniform, what's it made from?    george   \n",
              "10   (gets up and opens the door) Hi Tag! What are...    rachel   \n",
              "11   Forty-five minutes? We have tickets to the Mu...  chandler   \n",
              "12                         Finger sandwiches and tea.    phoebe   \n",
              "13   Because there are so many terrible sights in ...    monica   \n",
              "14      (flexing his fingers) Sorry. My hand is numb.     jerry   \n",
              "\n",
              "                                              Episode      Show  \\\n",
              "0      Season-07 Episode-13-The One Where Rosita Dies   Friends   \n",
              "1          Season-10 Episode-04-The One With The Cake   Friends   \n",
              "2                                              S03E22  Seinfeld   \n",
              "3   Season-02 Episode-22-The One With the Two Parties   Friends   \n",
              "4                                              S05E12  Seinfeld   \n",
              "5   Season-03 Episode-17-The One Without The Ski Trip   Friends   \n",
              "6    Season-05 Episode-18-The One Where Rachel Smokes   Friends   \n",
              "7       Season-09 Episode-15-The One With The Mugging   Friends   \n",
              "8     Season-10 Episode-15-The One Where Estelle Dies   Friends   \n",
              "9                                              S06E01  Seinfeld   \n",
              "10  Season-07 Episode-08-The One Where Chandler Do...   Friends   \n",
              "11  Season-07 Episode-10-The One With the Holiday ...   Friends   \n",
              "12  Season-07 Episode-19-The One With Ross and Mon...   Friends   \n",
              "13  Season-10 Episode-05-The One Where Rachel's Si...   Friends   \n",
              "14                                             S08E07  Seinfeld   \n",
              "\n",
              "    Dialogue_length  \n",
              "0                 1  \n",
              "1                13  \n",
              "2                14  \n",
              "3                56  \n",
              "4                13  \n",
              "5                18  \n",
              "6                 2  \n",
              "7                27  \n",
              "8                15  \n",
              "9                 6  \n",
              "10               13  \n",
              "11               10  \n",
              "12                4  \n",
              "13               10  \n",
              "14                8  "
            ],
            "text/html": [
              "\n",
              "  <div id=\"df-62ec1b05-ea51-409e-a2d4-b3565edd1ec2\">\n",
              "    <div class=\"colab-df-container\">\n",
              "      <div>\n",
              "<style scoped>\n",
              "    .dataframe tbody tr th:only-of-type {\n",
              "        vertical-align: middle;\n",
              "    }\n",
              "\n",
              "    .dataframe tbody tr th {\n",
              "        vertical-align: top;\n",
              "    }\n",
              "\n",
              "    .dataframe thead th {\n",
              "        text-align: right;\n",
              "    }\n",
              "</style>\n",
              "<table border=\"1\" class=\"dataframe\">\n",
              "  <thead>\n",
              "    <tr style=\"text-align: right;\">\n",
              "      <th></th>\n",
              "      <th>Dialogue</th>\n",
              "      <th>Character</th>\n",
              "      <th>Episode</th>\n",
              "      <th>Show</th>\n",
              "      <th>Dialogue_length</th>\n",
              "    </tr>\n",
              "  </thead>\n",
              "  <tbody>\n",
              "    <tr>\n",
              "      <th>0</th>\n",
              "      <td>Hey.</td>\n",
              "      <td>joey</td>\n",
              "      <td>Season-07 Episode-13-The One Where Rosita Dies</td>\n",
              "      <td>Friends</td>\n",
              "      <td>1</td>\n",
              "    </tr>\n",
              "    <tr>\n",
              "      <th>1</th>\n",
              "      <td>(to Joey) Are you gonna be embarrassed going ...</td>\n",
              "      <td>phoebe</td>\n",
              "      <td>Season-10 Episode-04-The One With The Cake</td>\n",
              "      <td>Friends</td>\n",
              "      <td>13</td>\n",
              "    </tr>\n",
              "    <tr>\n",
              "      <th>2</th>\n",
              "      <td>Me? No no no, you. You're gonna tell him. I'm ...</td>\n",
              "      <td>elaine</td>\n",
              "      <td>S03E22</td>\n",
              "      <td>Seinfeld</td>\n",
              "      <td>14</td>\n",
              "    </tr>\n",
              "    <tr>\n",
              "      <th>3</th>\n",
              "      <td>Alright you guys are off to party number one ...</td>\n",
              "      <td>chandler</td>\n",
              "      <td>Season-02 Episode-22-The One With the Two Parties</td>\n",
              "      <td>Friends</td>\n",
              "      <td>56</td>\n",
              "    </tr>\n",
              "    <tr>\n",
              "      <th>4</th>\n",
              "      <td>Am I? Or am I so sane that you just blew your ...</td>\n",
              "      <td>kramer</td>\n",
              "      <td>S05E12</td>\n",
              "      <td>Seinfeld</td>\n",
              "      <td>13</td>\n",
              "    </tr>\n",
              "    <tr>\n",
              "      <th>5</th>\n",
              "      <td>So, if you’re parents hadn’t got divorced, yo...</td>\n",
              "      <td>monica</td>\n",
              "      <td>Season-03 Episode-17-The One Without The Ski Trip</td>\n",
              "      <td>Friends</td>\n",
              "      <td>18</td>\n",
              "    </tr>\n",
              "    <tr>\n",
              "      <th>6</th>\n",
              "      <td>What's up?</td>\n",
              "      <td>ross</td>\n",
              "      <td>Season-05 Episode-18-The One Where Rachel Smokes</td>\n",
              "      <td>Friends</td>\n",
              "      <td>2</td>\n",
              "    </tr>\n",
              "    <tr>\n",
              "      <th>7</th>\n",
              "      <td>(over-enthusiastic) I don't know, I don' I do...</td>\n",
              "      <td>chandler</td>\n",
              "      <td>Season-09 Episode-15-The One With The Mugging</td>\n",
              "      <td>Friends</td>\n",
              "      <td>27</td>\n",
              "    </tr>\n",
              "    <tr>\n",
              "      <th>8</th>\n",
              "      <td>I know. *He* always wanted to be the first bl...</td>\n",
              "      <td>chandler</td>\n",
              "      <td>Season-10 Episode-15-The One Where Estelle Dies</td>\n",
              "      <td>Friends</td>\n",
              "      <td>15</td>\n",
              "    </tr>\n",
              "    <tr>\n",
              "      <th>9</th>\n",
              "      <td>This uniform, what's it made from?</td>\n",
              "      <td>george</td>\n",
              "      <td>S06E01</td>\n",
              "      <td>Seinfeld</td>\n",
              "      <td>6</td>\n",
              "    </tr>\n",
              "    <tr>\n",
              "      <th>10</th>\n",
              "      <td>(gets up and opens the door) Hi Tag! What are...</td>\n",
              "      <td>rachel</td>\n",
              "      <td>Season-07 Episode-08-The One Where Chandler Do...</td>\n",
              "      <td>Friends</td>\n",
              "      <td>13</td>\n",
              "    </tr>\n",
              "    <tr>\n",
              "      <th>11</th>\n",
              "      <td>Forty-five minutes? We have tickets to the Mu...</td>\n",
              "      <td>chandler</td>\n",
              "      <td>Season-07 Episode-10-The One With the Holiday ...</td>\n",
              "      <td>Friends</td>\n",
              "      <td>10</td>\n",
              "    </tr>\n",
              "    <tr>\n",
              "      <th>12</th>\n",
              "      <td>Finger sandwiches and tea.</td>\n",
              "      <td>phoebe</td>\n",
              "      <td>Season-07 Episode-19-The One With Ross and Mon...</td>\n",
              "      <td>Friends</td>\n",
              "      <td>4</td>\n",
              "    </tr>\n",
              "    <tr>\n",
              "      <th>13</th>\n",
              "      <td>Because there are so many terrible sights in ...</td>\n",
              "      <td>monica</td>\n",
              "      <td>Season-10 Episode-05-The One Where Rachel's Si...</td>\n",
              "      <td>Friends</td>\n",
              "      <td>10</td>\n",
              "    </tr>\n",
              "    <tr>\n",
              "      <th>14</th>\n",
              "      <td>(flexing his fingers) Sorry. My hand is numb.</td>\n",
              "      <td>jerry</td>\n",
              "      <td>S08E07</td>\n",
              "      <td>Seinfeld</td>\n",
              "      <td>8</td>\n",
              "    </tr>\n",
              "  </tbody>\n",
              "</table>\n",
              "</div>\n",
              "      <button class=\"colab-df-convert\" onclick=\"convertToInteractive('df-62ec1b05-ea51-409e-a2d4-b3565edd1ec2')\"\n",
              "              title=\"Convert this dataframe to an interactive table.\"\n",
              "              style=\"display:none;\">\n",
              "        \n",
              "  <svg xmlns=\"http://www.w3.org/2000/svg\" height=\"24px\"viewBox=\"0 0 24 24\"\n",
              "       width=\"24px\">\n",
              "    <path d=\"M0 0h24v24H0V0z\" fill=\"none\"/>\n",
              "    <path d=\"M18.56 5.44l.94 2.06.94-2.06 2.06-.94-2.06-.94-.94-2.06-.94 2.06-2.06.94zm-11 1L8.5 8.5l.94-2.06 2.06-.94-2.06-.94L8.5 2.5l-.94 2.06-2.06.94zm10 10l.94 2.06.94-2.06 2.06-.94-2.06-.94-.94-2.06-.94 2.06-2.06.94z\"/><path d=\"M17.41 7.96l-1.37-1.37c-.4-.4-.92-.59-1.43-.59-.52 0-1.04.2-1.43.59L10.3 9.45l-7.72 7.72c-.78.78-.78 2.05 0 2.83L4 21.41c.39.39.9.59 1.41.59.51 0 1.02-.2 1.41-.59l7.78-7.78 2.81-2.81c.8-.78.8-2.07 0-2.86zM5.41 20L4 18.59l7.72-7.72 1.47 1.35L5.41 20z\"/>\n",
              "  </svg>\n",
              "      </button>\n",
              "      \n",
              "  <style>\n",
              "    .colab-df-container {\n",
              "      display:flex;\n",
              "      flex-wrap:wrap;\n",
              "      gap: 12px;\n",
              "    }\n",
              "\n",
              "    .colab-df-convert {\n",
              "      background-color: #E8F0FE;\n",
              "      border: none;\n",
              "      border-radius: 50%;\n",
              "      cursor: pointer;\n",
              "      display: none;\n",
              "      fill: #1967D2;\n",
              "      height: 32px;\n",
              "      padding: 0 0 0 0;\n",
              "      width: 32px;\n",
              "    }\n",
              "\n",
              "    .colab-df-convert:hover {\n",
              "      background-color: #E2EBFA;\n",
              "      box-shadow: 0px 1px 2px rgba(60, 64, 67, 0.3), 0px 1px 3px 1px rgba(60, 64, 67, 0.15);\n",
              "      fill: #174EA6;\n",
              "    }\n",
              "\n",
              "    [theme=dark] .colab-df-convert {\n",
              "      background-color: #3B4455;\n",
              "      fill: #D2E3FC;\n",
              "    }\n",
              "\n",
              "    [theme=dark] .colab-df-convert:hover {\n",
              "      background-color: #434B5C;\n",
              "      box-shadow: 0px 1px 3px 1px rgba(0, 0, 0, 0.15);\n",
              "      filter: drop-shadow(0px 1px 2px rgba(0, 0, 0, 0.3));\n",
              "      fill: #FFFFFF;\n",
              "    }\n",
              "  </style>\n",
              "\n",
              "      <script>\n",
              "        const buttonEl =\n",
              "          document.querySelector('#df-62ec1b05-ea51-409e-a2d4-b3565edd1ec2 button.colab-df-convert');\n",
              "        buttonEl.style.display =\n",
              "          google.colab.kernel.accessAllowed ? 'block' : 'none';\n",
              "\n",
              "        async function convertToInteractive(key) {\n",
              "          const element = document.querySelector('#df-62ec1b05-ea51-409e-a2d4-b3565edd1ec2');\n",
              "          const dataTable =\n",
              "            await google.colab.kernel.invokeFunction('convertToInteractive',\n",
              "                                                     [key], {});\n",
              "          if (!dataTable) return;\n",
              "\n",
              "          const docLinkHtml = 'Like what you see? Visit the ' +\n",
              "            '<a target=\"_blank\" href=https://colab.research.google.com/notebooks/data_table.ipynb>data table notebook</a>'\n",
              "            + ' to learn more about interactive tables.';\n",
              "          element.innerHTML = '';\n",
              "          dataTable['output_type'] = 'display_data';\n",
              "          await google.colab.output.renderOutput(dataTable, element);\n",
              "          const docLink = document.createElement('div');\n",
              "          docLink.innerHTML = docLinkHtml;\n",
              "          element.appendChild(docLink);\n",
              "        }\n",
              "      </script>\n",
              "    </div>\n",
              "  </div>\n",
              "  "
            ]
          },
          "metadata": {},
          "execution_count": 53
        }
      ]
    },
    {
      "cell_type": "markdown",
      "source": [
        "Let's check if the classes are evenly distributed:"
      ],
      "metadata": {
        "id": "BcfUvR0_dNHL"
      }
    },
    {
      "cell_type": "code",
      "source": [
        "train_df['Show'].value_counts()\n"
      ],
      "metadata": {
        "colab": {
          "base_uri": "https://localhost:8080/"
        },
        "id": "-4FIe-_4dMqj",
        "outputId": "b19c54cb-c30a-407a-d23c-1821fcccff01"
      },
      "execution_count": null,
      "outputs": [
        {
          "output_type": "execute_result",
          "data": {
            "text/plain": [
              "Friends     39092\n",
              "Seinfeld    31313\n",
              "Name: Show, dtype: int64"
            ]
          },
          "metadata": {},
          "execution_count": 54
        }
      ]
    },
    {
      "cell_type": "code",
      "source": [
        "test_df['Show'].value_counts()"
      ],
      "metadata": {
        "colab": {
          "base_uri": "https://localhost:8080/"
        },
        "id": "VkDhbk2Rd5vU",
        "outputId": "6d3d0034-c86a-474e-fdad-c42fb1e3b3b6"
      },
      "execution_count": null,
      "outputs": [
        {
          "output_type": "execute_result",
          "data": {
            "text/plain": [
              "Friends     2596\n",
              "Seinfeld    1649\n",
              "Name: Show, dtype: int64"
            ]
          },
          "metadata": {},
          "execution_count": 55
        }
      ]
    },
    {
      "cell_type": "markdown",
      "source": [
        "We can see that the majority of characters belong to Friends (6 out of 10)."
      ],
      "metadata": {
        "id": "AYxiwTN-xF7m"
      }
    },
    {
      "cell_type": "code",
      "source": [
        "print (train_df.groupby('Show')['Character'].nunique())"
      ],
      "metadata": {
        "colab": {
          "base_uri": "https://localhost:8080/"
        },
        "id": "FYjvtgIcv4Fs",
        "outputId": "6c6474e4-e584-4b90-d06e-3625904a792f"
      },
      "execution_count": null,
      "outputs": [
        {
          "output_type": "stream",
          "name": "stdout",
          "text": [
            "Show\n",
            "Friends     6\n",
            "Seinfeld    4\n",
            "Name: Character, dtype: int64\n"
          ]
        }
      ]
    },
    {
      "cell_type": "markdown",
      "source": [
        "Let's look at one example:"
      ],
      "metadata": {
        "id": "bDclskiTdn_2"
      }
    },
    {
      "cell_type": "code",
      "source": [
        "train_df.iloc[1, 0]"
      ],
      "metadata": {
        "colab": {
          "base_uri": "https://localhost:8080/",
          "height": 36
        },
        "id": "NFZcYJb4drFz",
        "outputId": "cbe47272-4fd8-4cf2-a8f9-5073fabba7ea"
      },
      "execution_count": null,
      "outputs": [
        {
          "output_type": "execute_result",
          "data": {
            "text/plain": [
              "' (to Joey) Are you gonna be embarrassed going up there having nothing prepared?'"
            ],
            "application/vnd.google.colaboratory.intrinsic+json": {
              "type": "string"
            }
          },
          "metadata": {},
          "execution_count": 57
        }
      ]
    },
    {
      "cell_type": "markdown",
      "source": [
        "# Data preprocessing"
      ],
      "metadata": {
        "id": "NAXWT54-eIMV"
      }
    },
    {
      "cell_type": "markdown",
      "source": [
        "Cleaning the data"
      ],
      "metadata": {
        "id": "M_6wOimteL9b"
      }
    },
    {
      "cell_type": "code",
      "source": [
        "# Removing the square brackets\n",
        "def remove_between_square_brackets(text):\n",
        "    return re.sub('\\[[^]]*\\]', '', text) \n",
        "\n",
        "# Removing the noisy text\n",
        "def clean_text(text):\n",
        "    text = remove_between_square_brackets(text)\n",
        "    return text\n",
        "\n",
        "# Apply function on Dialogue column\n",
        "train_df['Dialogue'] = train_df['Dialogue'].apply(clean_text)\n",
        "test_df['Dialogue'] = test_df['Dialogue'].apply(clean_text)"
      ],
      "metadata": {
        "id": "ZIv1WjXaeItj"
      },
      "execution_count": null,
      "outputs": []
    },
    {
      "cell_type": "code",
      "source": [
        "train_df.iloc[1, 0]"
      ],
      "metadata": {
        "colab": {
          "base_uri": "https://localhost:8080/",
          "height": 36
        },
        "id": "1TY13eFlfdAn",
        "outputId": "e6ade2ad-f778-4216-b77c-19e25e02e6b9"
      },
      "execution_count": null,
      "outputs": [
        {
          "output_type": "execute_result",
          "data": {
            "text/plain": [
              "' (to Joey) Are you gonna be embarrassed going up there having nothing prepared?'"
            ],
            "application/vnd.google.colaboratory.intrinsic+json": {
              "type": "string"
            }
          },
          "metadata": {},
          "execution_count": 59
        }
      ]
    },
    {
      "cell_type": "markdown",
      "source": [
        "We will remove the director's notes as they are not part of the text:"
      ],
      "metadata": {
        "id": "s206Du8lgAUE"
      }
    },
    {
      "cell_type": "code",
      "source": [
        "# removing notes\n",
        "def remove_notes(text):\n",
        "  return re.sub('\\(.*?\\)','()', text)\n",
        "\n",
        "# Removing the noisy text\n",
        "def clean_text_notes(text):\n",
        "    text = remove_notes(text)\n",
        "    return text\n",
        "\n",
        "\n",
        "# Apply function on Dialogue column\n",
        "train_df['Dialogue'] = train_df['Dialogue'].apply(clean_text_notes)\n",
        "test_df['Dialogue'] = test_df['Dialogue'].apply(clean_text_notes)"
      ],
      "metadata": {
        "id": "n70mw4mYf_mS"
      },
      "execution_count": null,
      "outputs": []
    },
    {
      "cell_type": "code",
      "source": [
        "train_df.iloc[1,0]"
      ],
      "metadata": {
        "colab": {
          "base_uri": "https://localhost:8080/",
          "height": 36
        },
        "id": "Djw0WepFhe7w",
        "outputId": "607c4813-8152-41b4-d75b-ed4865bcc8dc"
      },
      "execution_count": null,
      "outputs": [
        {
          "output_type": "execute_result",
          "data": {
            "text/plain": [
              "' () Are you gonna be embarrassed going up there having nothing prepared?'"
            ],
            "application/vnd.google.colaboratory.intrinsic+json": {
              "type": "string"
            }
          },
          "metadata": {},
          "execution_count": 61
        }
      ]
    },
    {
      "cell_type": "markdown",
      "source": [
        "Let's also remove special characters:"
      ],
      "metadata": {
        "id": "wWF-NylJft1F"
      }
    },
    {
      "cell_type": "code",
      "source": [
        "# Define function for removing special characters\n",
        "def remove_special_characters(text):\n",
        "    pattern = r'[^a-zA-Z0-9\\s]'\n",
        "    text = re.sub(pattern,'',text)\n",
        "    return text\n",
        "\n",
        "# Apply function on Dialogue column\n",
        "train_df['Dialogue'] = train_df['Dialogue'].apply(remove_special_characters)\n",
        "test_df['Dialogue'] = test_df['Dialogue'].apply(remove_special_characters)"
      ],
      "metadata": {
        "id": "dYwEm-6kfvqG"
      },
      "execution_count": null,
      "outputs": []
    },
    {
      "cell_type": "code",
      "source": [
        "train_df.iloc[1, 0]"
      ],
      "metadata": {
        "colab": {
          "base_uri": "https://localhost:8080/",
          "height": 36
        },
        "id": "HaUX_Gf0fx7X",
        "outputId": "c21b03da-4a50-4943-a5d9-d1c11e2edd86"
      },
      "execution_count": null,
      "outputs": [
        {
          "output_type": "execute_result",
          "data": {
            "text/plain": [
              "'  Are you gonna be embarrassed going up there having nothing prepared'"
            ],
            "application/vnd.google.colaboratory.intrinsic+json": {
              "type": "string"
            }
          },
          "metadata": {},
          "execution_count": 63
        }
      ]
    },
    {
      "cell_type": "markdown",
      "source": [
        "Removing stop words"
      ],
      "metadata": {
        "id": "SDLX9-QRgiRu"
      }
    },
    {
      "cell_type": "code",
      "source": [
        "nltk.download('stopwords')\n",
        "stopword_list = nltk.corpus.stopwords.words('english')\n",
        "print('Number of English stop words:', len(stopword_list))\n",
        "print(\"The first 10 stopwords are: \" + str(stopword_list[:10]))"
      ],
      "metadata": {
        "colab": {
          "base_uri": "https://localhost:8080/"
        },
        "id": "XutqrevJgp5U",
        "outputId": "8c6d93ec-b760-463e-b3f8-0b1bde49d1c8"
      },
      "execution_count": null,
      "outputs": [
        {
          "output_type": "stream",
          "name": "stdout",
          "text": [
            "Number of English stop words: 179\n",
            "The first 10 stopwords are: ['i', 'me', 'my', 'myself', 'we', 'our', 'ours', 'ourselves', 'you', \"you're\"]\n"
          ]
        },
        {
          "output_type": "stream",
          "name": "stderr",
          "text": [
            "[nltk_data] Downloading package stopwords to /root/nltk_data...\n",
            "[nltk_data]   Package stopwords is already up-to-date!\n"
          ]
        }
      ]
    },
    {
      "cell_type": "code",
      "source": [
        "tokenizer = ToktokTokenizer()"
      ],
      "metadata": {
        "id": "CJP8oIwngsWo"
      },
      "execution_count": null,
      "outputs": []
    },
    {
      "cell_type": "code",
      "source": [
        "# Removing the stopwords\n",
        "def remove_stopwords(text, is_lower_case=False):\n",
        "    tokens = tokenizer.tokenize(text)\n",
        "    tokens = [token.strip() for token in tokens]\n",
        "    if is_lower_case:\n",
        "        filtered_tokens = [token for token in tokens if token not in stopword_list]\n",
        "    else:\n",
        "        filtered_tokens = [token for token in tokens if token.lower() not in stopword_list]\n",
        "    filtered_text = ' '.join(filtered_tokens)    \n",
        "    return filtered_text\n",
        "\n",
        "# Apply function on Dialogue column\n",
        "train_df['Dialogue'] = train_df['Dialogue'].progress_apply(remove_stopwords)\n",
        "test_df['Dialogue'] = test_df['Dialogue'].progress_apply(remove_stopwords)\n"
      ],
      "metadata": {
        "id": "PcvduBuxgyvW",
        "colab": {
          "base_uri": "https://localhost:8080/",
          "height": 81,
          "referenced_widgets": [
            "e9fa4b10e5bf442f8b33b7a956d69e3b",
            "0a0c107140374a8791b805ccc2789342",
            "e0f98feed8734149a4b69c46416576df",
            "6c829d26cace44c7a1614be66ef03647",
            "a84281dc24064de9b85fce3115e8b55b",
            "be04f765071b4f76b5146a154e2e8620",
            "612ae9a20e484308852a07f443844df9",
            "777a0c4e247a46e4b4c0733f8d62a02e",
            "909f12098b2e47639a00f19fd0174a6a",
            "2171bf71db9843a69dc9ceda5ee27820",
            "b677f9aae37745c29ae9eaa47566cc0c",
            "b1a0582bc94e45e798682065491e341f",
            "f8b8987ea30f467e9bd899239c1a78c8",
            "c898e4e28cf14bc8b2c517a9a77f25ff",
            "6e28432f2991439a88befce421cd5b7b",
            "826afeccc5804aa3b251317a05eda6f4",
            "100046de53864c7ca6a09522ec085afa",
            "5e0dd59dc756491e85f52b353542893c",
            "f6ac1e03e50546ca99141eaaf09f9f0a",
            "5a04fab1c53549f79f24e86943b9af25",
            "d3e6e8f6bcef46558dda4725a2a5223d",
            "e2f073c3a2a6460abb72979bb752d737"
          ]
        },
        "outputId": "840b8f41-04aa-49eb-9c2d-8055d2036d9e"
      },
      "execution_count": null,
      "outputs": [
        {
          "output_type": "display_data",
          "data": {
            "text/plain": [
              "  0%|          | 0/70405 [00:00<?, ?it/s]"
            ],
            "application/vnd.jupyter.widget-view+json": {
              "version_major": 2,
              "version_minor": 0,
              "model_id": "e9fa4b10e5bf442f8b33b7a956d69e3b"
            }
          },
          "metadata": {}
        },
        {
          "output_type": "display_data",
          "data": {
            "text/plain": [
              "  0%|          | 0/4245 [00:00<?, ?it/s]"
            ],
            "application/vnd.jupyter.widget-view+json": {
              "version_major": 2,
              "version_minor": 0,
              "model_id": "b1a0582bc94e45e798682065491e341f"
            }
          },
          "metadata": {}
        }
      ]
    },
    {
      "cell_type": "markdown",
      "source": [
        "Stemming"
      ],
      "metadata": {
        "id": "Z3wNHe2ehFFQ"
      }
    },
    {
      "cell_type": "code",
      "source": [
        "# Stemming the text\n",
        "def simple_stemmer(text):\n",
        "    ps = nltk.porter.PorterStemmer()\n",
        "    stemmed_words_list = []\n",
        "    text = ' '.join([ps.stem(word) for word in text.split()])\n",
        "    return text\n",
        "# Apply function on Dialogue column\n",
        "train_df['Dialogue'] = train_df['Dialogue'].progress_apply(simple_stemmer)\n",
        "test_df['Dialogue'] = test_df['Dialogue'].progress_apply(simple_stemmer)"
      ],
      "metadata": {
        "id": "TZWG0PqzhHQE",
        "colab": {
          "base_uri": "https://localhost:8080/",
          "height": 81,
          "referenced_widgets": [
            "cf253ca681df4f169a15b0a2399d5126",
            "65e7cab832224161b68e3407c409c6fc",
            "4785a132cb9f43418298ab9eb4a94f05",
            "fce0daf89e61408f95b5d4ccbf8c8569",
            "291c5f6ee4ad456ab79e585320058fe4",
            "520a83b21b9848e599f9a6f4e0783d3d",
            "c381e2a643b54872939d3e2b5ac92796",
            "62ddfafbcd0444a192ab01f4619dac06",
            "e5c202ae7d1642bc9f57187bb75d6c57",
            "5e0dcd0e08114babb2cea18882e9f616",
            "ef51d3a823b842148cb97020594492eb",
            "2f1b30f4af374958a13923bbf8eee99e",
            "f2177008c5e148d5b127ffb309f9777a",
            "258eee32078f4da7ad4cd23bcb92bf28",
            "3436c00fc83a464a9cd5c0589f18459d",
            "da74ceda587948fcaf3cb6724897fcfc",
            "2ad72565b8a34aa89408d97cc16eb61b",
            "00bb64cce1a74a3d840fe8e3949bc97c",
            "c1350edc15954b859c6bb50a6613865d",
            "1b20744f2f1f4887a5fb5dc684eaa258",
            "0497718c422c4c15959a2c86056d4635",
            "98a41c2385c04b02a7a5a0d64e244d5c"
          ]
        },
        "outputId": "41039e93-0885-45b2-9a65-9d57503cc513"
      },
      "execution_count": null,
      "outputs": [
        {
          "output_type": "display_data",
          "data": {
            "text/plain": [
              "  0%|          | 0/70405 [00:00<?, ?it/s]"
            ],
            "application/vnd.jupyter.widget-view+json": {
              "version_major": 2,
              "version_minor": 0,
              "model_id": "cf253ca681df4f169a15b0a2399d5126"
            }
          },
          "metadata": {}
        },
        {
          "output_type": "display_data",
          "data": {
            "text/plain": [
              "  0%|          | 0/4245 [00:00<?, ?it/s]"
            ],
            "application/vnd.jupyter.widget-view+json": {
              "version_major": 2,
              "version_minor": 0,
              "model_id": "2f1b30f4af374958a13923bbf8eee99e"
            }
          },
          "metadata": {}
        }
      ]
    },
    {
      "cell_type": "markdown",
      "source": [
        "Converting all thr data to lowercase"
      ],
      "metadata": {
        "id": "KiXokhWtF75p"
      }
    },
    {
      "cell_type": "code",
      "source": [
        " train_df['Dialogue'] = train_df['Dialogue'].str.lower()\n",
        " test_df['Dialogue'] = test_df['Dialogue'].str.lower()\n"
      ],
      "metadata": {
        "id": "yN2_n4yXGGcv"
      },
      "execution_count": null,
      "outputs": []
    },
    {
      "cell_type": "code",
      "source": [
        "train_df.iloc[1, 0]"
      ],
      "metadata": {
        "id": "k0NChlblHIhO",
        "colab": {
          "base_uri": "https://localhost:8080/",
          "height": 36
        },
        "outputId": "d959c294-4630-4676-ddff-318c6c58933e"
      },
      "execution_count": null,
      "outputs": [
        {
          "output_type": "execute_result",
          "data": {
            "text/plain": [
              "'gonna embarrass go noth prepar'"
            ],
            "application/vnd.google.colaboratory.intrinsic+json": {
              "type": "string"
            }
          },
          "metadata": {},
          "execution_count": 69
        }
      ]
    },
    {
      "cell_type": "markdown",
      "source": [
        "### Train-test-valdiation split"
      ],
      "metadata": {
        "id": "UikHD9dJcBvU"
      }
    },
    {
      "cell_type": "code",
      "source": [
        "x_train = train_df['Dialogue']\n",
        "y_train = train_df['Show']\n",
        "\n",
        "x_test = test_df['Dialogue']\n",
        "y_test = test_df['Show']"
      ],
      "metadata": {
        "id": "CJArLo0lcBVO"
      },
      "execution_count": null,
      "outputs": []
    },
    {
      "cell_type": "code",
      "source": [
        "x_train, x_val, y_train, y_val = train_test_split(x_train, y_train, test_size=0.2, stratify=y_train, random_state=1234) "
      ],
      "metadata": {
        "id": "5-4ApD_pcy5_"
      },
      "execution_count": null,
      "outputs": []
    },
    {
      "cell_type": "markdown",
      "source": [
        "We can also check that the distribution of our labels between test and train is not skewed toward one class:"
      ],
      "metadata": {
        "id": "76rhDSlPcKcs"
      }
    },
    {
      "cell_type": "code",
      "source": [
        "train_label_count = y_train.value_counts()\n",
        "test_label_count = y_test.value_counts()\n",
        "\n",
        "print('Train negative to positive ratio:', train_label_count['Friends'] / train_label_count['Seinfeld']) \n",
        "print('Test negative to positive ratio:', test_label_count['Friends'] / test_label_count['Seinfeld']) "
      ],
      "metadata": {
        "id": "eegs7U61cH1f",
        "colab": {
          "base_uri": "https://localhost:8080/"
        },
        "outputId": "76bb6029-715e-4150-8a7a-4edf2abb0873"
      },
      "execution_count": null,
      "outputs": [
        {
          "output_type": "stream",
          "name": "stdout",
          "text": [
            "Train negative to positive ratio: 1.2484630738522955\n",
            "Test negative to positive ratio: 1.5742874469375379\n"
          ]
        }
      ]
    },
    {
      "cell_type": "markdown",
      "source": [
        "And verify our results:"
      ],
      "metadata": {
        "id": "tSgVzDukh1vS"
      }
    },
    {
      "cell_type": "code",
      "source": [
        "print('x_train shape:', x_train.shape)\n",
        "print('y_train shape:', y_train.shape)\n",
        "print('x_test shape:', x_test.shape)\n",
        "print('y_test shape:', y_test.shape)\n",
        "print('x_val shape:', x_val.shape)\n",
        "print('y_val shape:', y_val.shape)"
      ],
      "metadata": {
        "id": "exP-HDJdhrU4",
        "colab": {
          "base_uri": "https://localhost:8080/"
        },
        "outputId": "3fa90567-39dd-48be-f656-274b9e042b68"
      },
      "execution_count": null,
      "outputs": [
        {
          "output_type": "stream",
          "name": "stdout",
          "text": [
            "x_train shape: (56324,)\n",
            "y_train shape: (56324,)\n",
            "x_test shape: (4245,)\n",
            "y_test shape: (4245,)\n",
            "x_val shape: (14081,)\n",
            "y_val shape: (14081,)\n"
          ]
        }
      ]
    },
    {
      "cell_type": "markdown",
      "source": [
        "Labeling"
      ],
      "metadata": {
        "id": "ep9bTR9WiUnH"
      }
    },
    {
      "cell_type": "code",
      "source": [
        "lb = LabelBinarizer()\n",
        "y_train = lb.fit_transform(y_train)\n",
        "y_test = lb.transform(y_test)\n",
        "y_val = lb.transform(y_val)"
      ],
      "metadata": {
        "id": "IRydIn-LiVzO"
      },
      "execution_count": null,
      "outputs": []
    },
    {
      "cell_type": "markdown",
      "source": [
        "For example:"
      ],
      "metadata": {
        "id": "7rlrN6VaidEf"
      }
    },
    {
      "cell_type": "code",
      "source": [
        "y_train[:5]"
      ],
      "metadata": {
        "id": "2znT2orWiesU",
        "colab": {
          "base_uri": "https://localhost:8080/"
        },
        "outputId": "bfe88946-062f-49b6-8379-836b8dbc1bda"
      },
      "execution_count": null,
      "outputs": [
        {
          "output_type": "execute_result",
          "data": {
            "text/plain": [
              "array([[0],\n",
              "       [0],\n",
              "       [0],\n",
              "       [1],\n",
              "       [1]])"
            ]
          },
          "metadata": {},
          "execution_count": 75
        }
      ]
    },
    {
      "cell_type": "markdown",
      "source": [
        "# **Deep Learning Model**"
      ],
      "metadata": {
        "id": "c_DCQwiJnqvg"
      }
    },
    {
      "cell_type": "markdown",
      "source": [
        "we're going to use Keras' tokenizer (kind of Bag of words):"
      ],
      "metadata": {
        "id": "lFT_2yqe0kQz"
      }
    },
    {
      "cell_type": "code",
      "source": [
        "token = Tokenizer(lower=False)\n",
        "token.fit_on_texts(x_train)"
      ],
      "metadata": {
        "id": "dF461AtBnqC8"
      },
      "execution_count": null,
      "outputs": []
    },
    {
      "cell_type": "markdown",
      "source": [
        "Convert to sequences:"
      ],
      "metadata": {
        "id": "L_NokO3cpude"
      }
    },
    {
      "cell_type": "code",
      "source": [
        "x_train_dl = token.texts_to_sequences(x_train)\n",
        "x_val_dl = token.texts_to_sequences(x_val)\n",
        "x_test_dl = token.texts_to_sequences(x_test)"
      ],
      "metadata": {
        "id": "zH2NpnvJnqAF"
      },
      "execution_count": null,
      "outputs": []
    },
    {
      "cell_type": "code",
      "source": [
        "x_train_dl[1]"
      ],
      "metadata": {
        "id": "gpWHDficnp8y",
        "colab": {
          "base_uri": "https://localhost:8080/"
        },
        "outputId": "c667cd13-c14c-43c6-c72e-88db92fbe8e1"
      },
      "execution_count": null,
      "outputs": [
        {
          "output_type": "execute_result",
          "data": {
            "text/plain": [
              "[3132]"
            ]
          },
          "metadata": {},
          "execution_count": 78
        }
      ]
    },
    {
      "cell_type": "markdown",
      "source": [
        "Calculate document length:"
      ],
      "metadata": {
        "id": "r4pUfoq5qXpt"
      }
    },
    {
      "cell_type": "code",
      "source": [
        "doc_len_list = [len(doc) for doc in x_train_dl]"
      ],
      "metadata": {
        "id": "FOC9FVPknp5u"
      },
      "execution_count": null,
      "outputs": []
    },
    {
      "cell_type": "markdown",
      "source": [
        "Exemine the distribution:"
      ],
      "metadata": {
        "id": "tHFntYgYqczH"
      }
    },
    {
      "cell_type": "code",
      "source": [
        "sns.histplot(doc_len_list)"
      ],
      "metadata": {
        "id": "zswaPnBbnp22",
        "colab": {
          "base_uri": "https://localhost:8080/",
          "height": 282
        },
        "outputId": "19188df8-ecd9-4d68-8c87-d5790a0300bd"
      },
      "execution_count": null,
      "outputs": [
        {
          "output_type": "execute_result",
          "data": {
            "text/plain": [
              "<matplotlib.axes._subplots.AxesSubplot at 0x7fc340fdbf40>"
            ]
          },
          "metadata": {},
          "execution_count": 80
        },
        {
          "output_type": "display_data",
          "data": {
            "text/plain": [
              "<Figure size 432x288 with 1 Axes>"
            ],
            "image/png": "[encoded data removed]"
          },
          "metadata": {
            "needs_background": "light"
          }
        }
      ]
    },
    {
      "cell_type": "markdown",
      "source": [
        "We want to make sure that all sequences have the same length, we will fix it to 25 based on the distribution."
      ],
      "metadata": {
        "id": "Og8leZylqzmJ"
      }
    },
    {
      "cell_type": "code",
      "source": [
        "max_words = 25\n",
        "\n",
        "x_train_dl = sequence.pad_sequences(x_train_dl, maxlen=max_words)\n",
        "x_val_dl = sequence.pad_sequences(x_val_dl, maxlen=max_words)\n",
        "x_test_dl = sequence.pad_sequences(x_test_dl, maxlen=max_words)"
      ],
      "metadata": {
        "id": "Ycc6w1WuqiON"
      },
      "execution_count": null,
      "outputs": []
    },
    {
      "cell_type": "code",
      "source": [
        "x_train_dl.shape"
      ],
      "metadata": {
        "id": "ZI_KiHRfqiMH",
        "colab": {
          "base_uri": "https://localhost:8080/"
        },
        "outputId": "178eb16e-22c0-48bc-fd7e-5d7feb3b2770"
      },
      "execution_count": null,
      "outputs": [
        {
          "output_type": "execute_result",
          "data": {
            "text/plain": [
              "(56324, 25)"
            ]
          },
          "metadata": {},
          "execution_count": 82
        }
      ]
    },
    {
      "cell_type": "code",
      "source": [
        "x_train_dl[10, :]"
      ],
      "metadata": {
        "id": "giBL-1WZqiJ3",
        "colab": {
          "base_uri": "https://localhost:8080/"
        },
        "outputId": "840c08b0-0370-4740-d449-0c51b7f5e17e"
      },
      "execution_count": null,
      "outputs": [
        {
          "output_type": "execute_result",
          "data": {
            "text/plain": [
              "array([   0,    0,    0,    0,    0,    0,    0,    0,    0,    0,    0,\n",
              "          0,    0,    0,    0,    0,    0,    0,    0,    0,    0,    0,\n",
              "        112,  140, 2445], dtype=int32)"
            ]
          },
          "metadata": {},
          "execution_count": 83
        }
      ]
    },
    {
      "cell_type": "code",
      "source": [
        "total_words = len(token.word_index) + 1 \n",
        "total_words"
      ],
      "metadata": {
        "id": "jAZ_CLnOqiHM",
        "colab": {
          "base_uri": "https://localhost:8080/"
        },
        "outputId": "38f0b4d1-bb37-4faf-a535-2c192d6c8103"
      },
      "execution_count": null,
      "outputs": [
        {
          "output_type": "execute_result",
          "data": {
            "text/plain": [
              "14966"
            ]
          },
          "metadata": {},
          "execution_count": 84
        }
      ]
    },
    {
      "cell_type": "markdown",
      "source": [
        "Model architecture"
      ],
      "metadata": {
        "id": "iuHmTVJbutd8"
      }
    },
    {
      "cell_type": "code",
      "source": [
        "model = Sequential()\n",
        "model.add(Embedding(input_dim=total_words, output_dim=8, input_length=max_words))\n",
        "model.add(Conv1D(8, 3, padding='same', activation='relu'))\n",
        "model.add(Flatten())\n",
        "model.add(Dense(64, activation='relu'))\n",
        "model.add(Dropout(0.7)) \n",
        "model.add(Dense(32, activation='relu'))\n",
        "model.add(Dropout(0.5))\n",
        "model.add(Dense(1, activation='sigmoid'))\n",
        "model.compile(loss='binary_crossentropy', optimizer='adam', metrics=['accuracy'])\n",
        "model.summary()"
      ],
      "metadata": {
        "id": "N1_-1lUrqiEj",
        "colab": {
          "base_uri": "https://localhost:8080/"
        },
        "outputId": "4a23244b-232f-49bc-ff5e-77c8f15a3639"
      },
      "execution_count": null,
      "outputs": [
        {
          "output_type": "stream",
          "name": "stdout",
          "text": [
            "Model: \"sequential_1\"\n",
            "_________________________________________________________________\n",
            " Layer (type)                Output Shape              Param #   \n",
            "=================================================================\n",
            " embedding_1 (Embedding)     (None, 25, 8)             119728    \n",
            "                                                                 \n",
            " conv1d_1 (Conv1D)           (None, 25, 8)             200       \n",
            "                                                                 \n",
            " flatten_1 (Flatten)         (None, 200)               0         \n",
            "                                                                 \n",
            " dense_3 (Dense)             (None, 64)                12864     \n",
            "                                                                 \n",
            " dropout_2 (Dropout)         (None, 64)                0         \n",
            "                                                                 \n",
            " dense_4 (Dense)             (None, 32)                2080      \n",
            "                                                                 \n",
            " dropout_3 (Dropout)         (None, 32)                0         \n",
            "                                                                 \n",
            " dense_5 (Dense)             (None, 1)                 33        \n",
            "                                                                 \n",
            "=================================================================\n",
            "Total params: 134,905\n",
            "Trainable params: 134,905\n",
            "Non-trainable params: 0\n",
            "_________________________________________________________________\n"
          ]
        }
      ]
    },
    {
      "cell_type": "code",
      "source": [
        "model_history=model.fit(x_train_dl, y_train, validation_data=(x_val_dl, y_val), epochs=5, batch_size=64)"
      ],
      "metadata": {
        "id": "XbBaKjjuupN7",
        "colab": {
          "base_uri": "https://localhost:8080/"
        },
        "outputId": "b60c4fd4-a522-45fb-a25a-c2b02b782fe4"
      },
      "execution_count": null,
      "outputs": [
        {
          "output_type": "stream",
          "name": "stdout",
          "text": [
            "Epoch 1/5\n",
            "881/881 [==============================] - 5s 5ms/step - loss: 0.6245 - accuracy: 0.6255 - val_loss: 0.5539 - val_accuracy: 0.7017\n",
            "Epoch 2/5\n",
            "881/881 [==============================] - 6s 7ms/step - loss: 0.5210 - accuracy: 0.7251 - val_loss: 0.5153 - val_accuracy: 0.7149\n",
            "Epoch 3/5\n",
            "881/881 [==============================] - 4s 5ms/step - loss: 0.4622 - accuracy: 0.7618 - val_loss: 0.5231 - val_accuracy: 0.7182\n",
            "Epoch 4/5\n",
            "881/881 [==============================] - 4s 4ms/step - loss: 0.4265 - accuracy: 0.7780 - val_loss: 0.5418 - val_accuracy: 0.7161\n",
            "Epoch 5/5\n",
            "881/881 [==============================] - 4s 4ms/step - loss: 0.3999 - accuracy: 0.7925 - val_loss: 0.5797 - val_accuracy: 0.7122\n"
          ]
        }
      ]
    },
    {
      "cell_type": "code",
      "source": [
        "train_accuracy = model_history.history['accuracy'][-1]\n",
        "train_accuracy"
      ],
      "metadata": {
        "id": "4oG7TW_GZKoa",
        "colab": {
          "base_uri": "https://localhost:8080/"
        },
        "outputId": "b2a7ca99-c914-4d3e-fa00-e88da51e85d0"
      },
      "execution_count": null,
      "outputs": [
        {
          "output_type": "execute_result",
          "data": {
            "text/plain": [
              "0.7924508452415466"
            ]
          },
          "metadata": {},
          "execution_count": 87
        }
      ]
    },
    {
      "cell_type": "markdown",
      "source": [
        "# Evaluate the model:"
      ],
      "metadata": {
        "id": "bFgY0sntu-PQ"
      }
    },
    {
      "cell_type": "code",
      "source": [
        "mod_eval=model.evaluate(x_test_dl, y_test)"
      ],
      "metadata": {
        "id": "e8KE7cCJuo8v",
        "colab": {
          "base_uri": "https://localhost:8080/"
        },
        "outputId": "3cd496df-69b4-4d6c-c61f-517640da01d5"
      },
      "execution_count": null,
      "outputs": [
        {
          "output_type": "stream",
          "name": "stdout",
          "text": [
            "133/133 [==============================] - 0s 2ms/step - loss: 0.4988 - accuracy: 0.8118\n"
          ]
        }
      ]
    },
    {
      "cell_type": "markdown",
      "source": [
        "## Model evaluate per actor: \n",
        "we'll do it in a loop for each of the Characters"
      ],
      "metadata": {
        "id": "3kqEfMBagG3K"
      }
    },
    {
      "cell_type": "code",
      "source": [
        "#get all the names from \"Character\" column and creat a list.\n",
        "characters = list(train_df['Character'].unique())\n",
        "\n",
        "print(characters)"
      ],
      "metadata": {
        "id": "7V-s-UIwgIxp",
        "colab": {
          "base_uri": "https://localhost:8080/"
        },
        "outputId": "15acfc1d-88db-42fe-f2ea-33c8cc3c5682"
      },
      "execution_count": null,
      "outputs": [
        {
          "output_type": "stream",
          "name": "stdout",
          "text": [
            "['joey', 'phoebe', 'elaine', 'chandler', 'kramer', 'monica', 'ross', 'george', 'rachel', 'jerry']\n"
          ]
        }
      ]
    },
    {
      "cell_type": "code",
      "source": [
        "#utilty function to calculate, save and print the accuracy for each character\n",
        "def character_accuracy(lst):\n",
        "  accuracy_dict = {} \n",
        "  for chr in lst:\n",
        "    df_chr_copy = test_df.copy()\n",
        "    df_chr_copy = df_chr_copy.loc[df_chr_copy['Character'] == chr] #creating a df containing only the quotes of one character at a time\n",
        "    \n",
        "    #processing the data\n",
        "    df_chr_test = df_chr_copy['Dialogue']\n",
        "    token.fit_on_texts(df_chr_test) \n",
        "    df_chr_test = token.texts_to_sequences(df_chr_test)\n",
        "    df_chr_test = sequence.pad_sequences(df_chr_test, maxlen=max_words)\n",
        "    df_chr_y = lb.transform(df_chr_copy['Show'])\n",
        "\n",
        "    #testing accuracy\n",
        "    chr_accuracy = model.evaluate(df_chr_test, df_chr_y) \n",
        "    accuracy_dict[chr] = [chr_accuracy, np.round(model.predict(df_chr_test)), df_chr_y] #save the scores, predictions and labels for each character in a dictionary\n",
        "  return accuracy_dict"
      ],
      "metadata": {
        "id": "4kruNxoYgKn5"
      },
      "execution_count": null,
      "outputs": []
    },
    {
      "cell_type": "code",
      "source": [
        "evaluate_per_chr = character_accuracy(characters)\n",
        "for key in evaluate_per_chr:\n",
        "  print(key + ': ' + str(evaluate_per_chr[key][0][1]))"
      ],
      "metadata": {
        "id": "Ap6tkfxegLQG",
        "colab": {
          "base_uri": "https://localhost:8080/"
        },
        "outputId": "02584c85-66d6-41e4-ad88-7f0c7c2b8db7"
      },
      "execution_count": null,
      "outputs": [
        {
          "output_type": "stream",
          "name": "stdout",
          "text": [
            "15/15 [==============================] - 0s 3ms/step - loss: 1.1322 - accuracy: 0.7076\n",
            "15/15 [==============================] - 0s 2ms/step\n",
            "13/13 [==============================] - 0s 2ms/step - loss: 1.7037 - accuracy: 0.6980\n",
            "13/13 [==============================] - 0s 2ms/step\n",
            "10/10 [==============================] - 0s 3ms/step - loss: 1.9396 - accuracy: 0.4726\n",
            "10/10 [==============================] - 0s 2ms/step\n",
            "13/13 [==============================] - 0s 3ms/step - loss: 1.5557 - accuracy: 0.6910\n",
            "13/13 [==============================] - 0s 2ms/step\n",
            "10/10 [==============================] - 0s 4ms/step - loss: 3.0530 - accuracy: 0.4392\n",
            "10/10 [==============================] - 0s 2ms/step\n",
            "12/12 [==============================] - 0s 2ms/step - loss: 1.6062 - accuracy: 0.6728\n",
            "12/12 [==============================] - 0s 2ms/step\n",
            "15/15 [==============================] - 0s 2ms/step - loss: 1.2116 - accuracy: 0.7158\n",
            "15/15 [==============================] - 0s 2ms/step\n",
            "15/15 [==============================] - 0s 2ms/step - loss: 3.1681 - accuracy: 0.4114\n",
            "15/15 [==============================] - 0s 2ms/step\n",
            "15/15 [==============================] - 0s 2ms/step - loss: 1.4196 - accuracy: 0.7229\n",
            "15/15 [==============================] - 0s 2ms/step\n",
            "19/19 [==============================] - 0s 3ms/step - loss: 3.0689 - accuracy: 0.4174\n",
            "19/19 [==============================] - 0s 2ms/step\n",
            "joey: 0.7076271176338196\n",
            "phoebe: 0.6979695558547974\n",
            "elaine: 0.4726027250289917\n",
            "chandler: 0.6909975409507751\n",
            "kramer: 0.43918919563293457\n",
            "monica: 0.6727748513221741\n",
            "ross: 0.7157894968986511\n",
            "george: 0.4113923907279968\n",
            "rachel: 0.7229437232017517\n",
            "jerry: 0.41737648844718933\n"
          ]
        }
      ]
    },
    {
      "cell_type": "markdown",
      "source": [
        "**Results**: We can see that Phoebe and Monica have the highest accuracy score.\n",
        "Jerry and Kramer got the lowest accuracy scores."
      ],
      "metadata": {
        "id": "vYEckWVBjRNs"
      }
    },
    {
      "cell_type": "markdown",
      "source": [
        "![5599086099378640360no.jpg](data:image/jpeg;base64,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)"
      ],
      "metadata": {
        "id": "I5fpk8E3a3xf"
      }
    },
    {
      "cell_type": "markdown",
      "source": [
        "# Vizualization"
      ],
      "metadata": {
        "id": "p9JxCFYzkLAz"
      }
    },
    {
      "cell_type": "markdown",
      "source": [
        "Let's see what a Friends Dialogue looks like using a word cloud:"
      ],
      "metadata": {
        "id": "88RWAlewkOiy"
      }
    },
    {
      "cell_type": "code",
      "source": [
        "plt.figure(figsize=(10, 10))\n",
        "plt.title('Friends Dialogue')\n",
        "friends_text = x_train[1]\n",
        "WC = WordCloud(width=1000, height=500, max_words=500, min_font_size=5)\n",
        "friends_words = WC.generate(friends_text)\n",
        "plt.imshow(friends_words, interpolation='bilinear')\n",
        "plt.show()"
      ],
      "metadata": {
        "id": "n9yKX2U0kKj7",
        "colab": {
          "base_uri": "https://localhost:8080/"
        },
        "outputId": "75e26b8d-d34b-4036-b4ad-37524f553e46"
      },
      "execution_count": null,
      "outputs": [
        {
          "output_type": "display_data",
          "data": {
            "text/plain": [
              "<Figure size 720x720 with 1 Axes>"
            ],
            "image/png": "[encoded data removed]"
          },
          "metadata": {
            "needs_background": "light"
          }
        }
      ]
    },
    {
      "cell_type": "markdown",
      "source": [
        "And what a Seinfeld Dialogue looks like using a word cloud"
      ],
      "metadata": {
        "id": "fPNcBM5Fkjck"
      }
    },
    {
      "cell_type": "code",
      "source": [
        "plt.figure(figsize=(10, 10))\n",
        "plt.title('Seinfeld Dialogue')\n",
        "seinfeld_text = x_train[2]\n",
        "WC = WordCloud(width=1000, height=500, max_words=500, min_font_size=5)\n",
        "words = WC.generate(seinfeld_text)\n",
        "plt.imshow(words, interpolation='bilinear')\n",
        "plt.show()"
      ],
      "metadata": {
        "id": "FFuHHaDvkh25",
        "colab": {
          "base_uri": "https://localhost:8080/"
        },
        "outputId": "131f774a-fc82-4ec8-a2ff-ef181d56b97d"
      },
      "execution_count": null,
      "outputs": [
        {
          "output_type": "display_data",
          "data": {
            "text/plain": [
              "<Figure size 720x720 with 1 Axes>"
            ],
            "image/png": "[encoded data removed]"
          },
          "metadata": {
            "needs_background": "light"
          }
        }
      ]
    },
    {
      "cell_type": "code",
      "source": [
        "for chr in characters:\n",
        "  matrix = confusion_matrix(evaluate_per_chr[chr][2], evaluate_per_chr[chr][1])\n",
        "  im = display_matrix(matrix)\n",
        "  im.plot()\n",
        "  plt.title(\"Confusion Matrix for \" + chr)\n",
        "  plt.show()"
      ],
      "metadata": {
        "id": "rp69PDSt9AYw",
        "colab": {
          "base_uri": "https://localhost:8080/",
          "height": 1000
        },
        "outputId": "3877214d-d50f-42b2-e7c3-f1e3cf224fee"
      },
      "execution_count": null,
      "outputs": [
        {
          "output_type": "display_data",
          "data": {
            "text/plain": [
              "<Figure size 432x288 with 2 Axes>"
            ],
            "image/png": "[encoded data removed]"
          },
          "metadata": {
            "needs_background": "light"
          }
        },
        {
          "output_type": "display_data",
          "data": {
            "text/plain": [
              "<Figure size 432x288 with 2 Axes>"
            ],
            "image/png": "[encoded data removed]"
          },
          "metadata": {
            "needs_background": "light"
          }
        },
        {
          "output_type": "display_data",
          "data": {
            "text/plain": [
              "<Figure size 432x288 with 2 Axes>"
            ],
            "image/png": "[encoded data removed]"
          },
          "metadata": {
            "needs_background": "light"
          }
        },
        {
          "output_type": "display_data",
          "data": {
            "text/plain": [
              "<Figure size 432x288 with 2 Axes>"
            ],
            "image/png": "[encoded data removed]"
          },
          "metadata": {
            "needs_background": "light"
          }
        },
        {
          "output_type": "display_data",
          "data": {
            "text/plain": [
              "<Figure size 432x288 with 2 Axes>"
            ],
            "image/png": "[encoded data removed]"
          },
          "metadata": {
            "needs_background": "light"
          }
        },
        {
          "output_type": "display_data",
          "data": {
            "text/plain": [
              "<Figure size 432x288 with 2 Axes>"
            ],
            "image/png": "[encoded data removed]"
          },
          "metadata": {
            "needs_background": "light"
          }
        },
        {
          "output_type": "display_data",
          "data": {
            "text/plain": [
              "<Figure size 432x288 with 2 Axes>"
            ],
            "image/png": "[encoded data removed]"
          },
          "metadata": {
            "needs_background": "light"
          }
        },
        {
          "output_type": "display_data",
          "data": {
            "text/plain": [
              "<Figure size 432x288 with 2 Axes>"
            ],
            "image/png": "[encoded data removed]"
          },
          "metadata": {
            "needs_background": "light"
          }
        },
        {
          "output_type": "display_data",
          "data": {
            "text/plain": [
              "<Figure size 432x288 with 2 Axes>"
            ],
            "image/png": "[encoded data removed]"
          },
          "metadata": {
            "needs_background": "light"
          }
        },
        {
          "output_type": "display_data",
          "data": {
            "text/plain": [
              "<Figure size 432x288 with 2 Axes>"
            ],
            "image/png": "[encoded data removed]"
          },
          "metadata": {
            "needs_background": "light"
          }
        }
      ]
    },
    {
      "cell_type": "markdown",
      "source": [
        "# Summary"
      ],
      "metadata": {
        "id": "58-P0TdSNvFe"
      }
    },
    {
      "cell_type": "code",
      "source": [
        "# generate the CSV file\n",
        "\n",
        "results = {'Test score (Accuracy)': [str(mod_eval[1])],\n",
        "           'Train score (Accuracy)': [str(train_accuracy)],\n",
        "           'Number of trainable parameters': [134905],\n",
        "           'Number of layers': [len(model.layers)],\n",
        "           'Regularization methods': ['Dropout'],\n",
        "           'Number of epochs': [5],\n",
        "           'Loss function': ['binary_crossentropy'],\n",
        "           'Optimizer': ['adam'],\n",
        "           'Embedding dimension': [total_words]\n",
        "           }\n",
        "\n",
        "df = pd.DataFrame(results)\n",
        "df"
      ],
      "metadata": {
        "id": "IonCAWvIhBFr",
        "colab": {
          "base_uri": "https://localhost:8080/",
          "height": 142
        },
        "outputId": "c56fff48-493f-4965-eadd-1da6e7cdccf3"
      },
      "execution_count": null,
      "outputs": [
        {
          "output_type": "execute_result",
          "data": {
            "text/plain": [
              "  Test score (Accuracy) Train score (Accuracy)  \\\n",
              "0    0.8117785453796387     0.7924508452415466   \n",
              "\n",
              "   Number of trainable parameters  Number of layers Regularization methods  \\\n",
              "0                          134905                 8                Dropout   \n",
              "\n",
              "   Number of epochs        Loss function Optimizer  Embedding dimension  \n",
              "0                 5  binary_crossentropy      adam                14966  "
            ],
            "text/html": [
              "\n",
              "  <div id=\"df-fadd9d17-800f-4b9a-83aa-5e39b9149a93\">\n",
              "    <div class=\"colab-df-container\">\n",
              "      <div>\n",
              "<style scoped>\n",
              "    .dataframe tbody tr th:only-of-type {\n",
              "        vertical-align: middle;\n",
              "    }\n",
              "\n",
              "    .dataframe tbody tr th {\n",
              "        vertical-align: top;\n",
              "    }\n",
              "\n",
              "    .dataframe thead th {\n",
              "        text-align: right;\n",
              "    }\n",
              "</style>\n",
              "<table border=\"1\" class=\"dataframe\">\n",
              "  <thead>\n",
              "    <tr style=\"text-align: right;\">\n",
              "      <th></th>\n",
              "      <th>Test score (Accuracy)</th>\n",
              "      <th>Train score (Accuracy)</th>\n",
              "      <th>Number of trainable parameters</th>\n",
              "      <th>Number of layers</th>\n",
              "      <th>Regularization methods</th>\n",
              "      <th>Number of epochs</th>\n",
              "      <th>Loss function</th>\n",
              "      <th>Optimizer</th>\n",
              "      <th>Embedding dimension</th>\n",
              "    </tr>\n",
              "  </thead>\n",
              "  <tbody>\n",
              "    <tr>\n",
              "      <th>0</th>\n",
              "      <td>0.8117785453796387</td>\n",
              "      <td>0.7924508452415466</td>\n",
              "      <td>134905</td>\n",
              "      <td>8</td>\n",
              "      <td>Dropout</td>\n",
              "      <td>5</td>\n",
              "      <td>binary_crossentropy</td>\n",
              "      <td>adam</td>\n",
              "      <td>14966</td>\n",
              "    </tr>\n",
              "  </tbody>\n",
              "</table>\n",
              "</div>\n",
              "      <button class=\"colab-df-convert\" onclick=\"convertToInteractive('df-fadd9d17-800f-4b9a-83aa-5e39b9149a93')\"\n",
              "              title=\"Convert this dataframe to an interactive table.\"\n",
              "              style=\"display:none;\">\n",
              "        \n",
              "  <svg xmlns=\"http://www.w3.org/2000/svg\" height=\"24px\"viewBox=\"0 0 24 24\"\n",
              "       width=\"24px\">\n",
              "    <path d=\"M0 0h24v24H0V0z\" fill=\"none\"/>\n",
              "    <path d=\"M18.56 5.44l.94 2.06.94-2.06 2.06-.94-2.06-.94-.94-2.06-.94 2.06-2.06.94zm-11 1L8.5 8.5l.94-2.06 2.06-.94-2.06-.94L8.5 2.5l-.94 2.06-2.06.94zm10 10l.94 2.06.94-2.06 2.06-.94-2.06-.94-.94-2.06-.94 2.06-2.06.94z\"/><path d=\"M17.41 7.96l-1.37-1.37c-.4-.4-.92-.59-1.43-.59-.52 0-1.04.2-1.43.59L10.3 9.45l-7.72 7.72c-.78.78-.78 2.05 0 2.83L4 21.41c.39.39.9.59 1.41.59.51 0 1.02-.2 1.41-.59l7.78-7.78 2.81-2.81c.8-.78.8-2.07 0-2.86zM5.41 20L4 18.59l7.72-7.72 1.47 1.35L5.41 20z\"/>\n",
              "  </svg>\n",
              "      </button>\n",
              "      \n",
              "  <style>\n",
              "    .colab-df-container {\n",
              "      display:flex;\n",
              "      flex-wrap:wrap;\n",
              "      gap: 12px;\n",
              "    }\n",
              "\n",
              "    .colab-df-convert {\n",
              "      background-color: #E8F0FE;\n",
              "      border: none;\n",
              "      border-radius: 50%;\n",
              "      cursor: pointer;\n",
              "      display: none;\n",
              "      fill: #1967D2;\n",
              "      height: 32px;\n",
              "      padding: 0 0 0 0;\n",
              "      width: 32px;\n",
              "    }\n",
              "\n",
              "    .colab-df-convert:hover {\n",
              "      background-color: #E2EBFA;\n",
              "      box-shadow: 0px 1px 2px rgba(60, 64, 67, 0.3), 0px 1px 3px 1px rgba(60, 64, 67, 0.15);\n",
              "      fill: #174EA6;\n",
              "    }\n",
              "\n",
              "    [theme=dark] .colab-df-convert {\n",
              "      background-color: #3B4455;\n",
              "      fill: #D2E3FC;\n",
              "    }\n",
              "\n",
              "    [theme=dark] .colab-df-convert:hover {\n",
              "      background-color: #434B5C;\n",
              "      box-shadow: 0px 1px 3px 1px rgba(0, 0, 0, 0.15);\n",
              "      filter: drop-shadow(0px 1px 2px rgba(0, 0, 0, 0.3));\n",
              "      fill: #FFFFFF;\n",
              "    }\n",
              "  </style>\n",
              "\n",
              "      <script>\n",
              "        const buttonEl =\n",
              "          document.querySelector('#df-fadd9d17-800f-4b9a-83aa-5e39b9149a93 button.colab-df-convert');\n",
              "        buttonEl.style.display =\n",
              "          google.colab.kernel.accessAllowed ? 'block' : 'none';\n",
              "\n",
              "        async function convertToInteractive(key) {\n",
              "          const element = document.querySelector('#df-fadd9d17-800f-4b9a-83aa-5e39b9149a93');\n",
              "          const dataTable =\n",
              "            await google.colab.kernel.invokeFunction('convertToInteractive',\n",
              "                                                     [key], {});\n",
              "          if (!dataTable) return;\n",
              "\n",
              "          const docLinkHtml = 'Like what you see? Visit the ' +\n",
              "            '<a target=\"_blank\" href=https://colab.research.google.com/notebooks/data_table.ipynb>data table notebook</a>'\n",
              "            + ' to learn more about interactive tables.';\n",
              "          element.innerHTML = '';\n",
              "          dataTable['output_type'] = 'display_data';\n",
              "          await google.colab.output.renderOutput(dataTable, element);\n",
              "          const docLink = document.createElement('div');\n",
              "          docLink.innerHTML = docLinkHtml;\n",
              "          element.appendChild(docLink);\n",
              "        }\n",
              "      </script>\n",
              "    </div>\n",
              "  </div>\n",
              "  "
            ]
          },
          "metadata": {},
          "execution_count": 95
        }
      ]
    },
    {
      "cell_type": "code",
      "source": [
        "df.to_csv(os.path.join(os.getcwd(), 'exercise3.csv'))"
      ],
      "metadata": {
        "id": "CSQjKY7LhQno"
      },
      "execution_count": null,
      "outputs": []
    }
  ]
}